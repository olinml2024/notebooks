{
  "nbformat": 4,
  "nbformat_minor": 0,
  "metadata": {
    "colab": {
      "provenance": [],
      "include_colab_link": true
    },
    "kernelspec": {
      "name": "python3",
      "display_name": "Python 3"
    },
    "language_info": {
      "name": "python"
    }
  },
  "cells": [
    {
      "cell_type": "markdown",
      "metadata": {
        "id": "view-in-github",
        "colab_type": "text"
      },
      "source": [
        "<a href=\"https://colab.research.google.com/github/olinml2024/notebooks/blob/main/ML2024_Assignment_15_Manual_Convolutions.ipynb\" target=\"_parent\"><img src=\"https://colab.research.google.com/assets/colab-badge.svg\" alt=\"Open In Colab\"/></a>"
      ]
    },
    {
      "cell_type": "markdown",
      "source": [
        "# Olin ML 2024 - Assignment 15\n",
        "Let's experiment with filters!\n",
        "\n",
        "You can uploaded an image of your choice and load it below. We've provided you with a fair bit of code scaffolding below so that you can just focus on the filters and convolution functions.\n",
        "\n",
        "Please note that there is more than one \"correct\" answer for these filters.\n",
        "\n",
        "As part of your quality assessed deliverable, you will submit a figure like the one generated at the end of this end of this script (not due now, just giving you a heads up)."
      ],
      "metadata": {
        "id": "vMpxS_AOLcxX"
      }
    },
    {
      "cell_type": "code",
      "execution_count": null,
      "metadata": {
        "id": "9fYE4ACtTKar",
        "collapsed": true
      },
      "outputs": [],
      "source": [
        "import matplotlib.pyplot as plt\n",
        "import matplotlib.image as mpimg\n",
        "import numpy as np\n",
        "from PIL import Image\n",
        "import requests\n",
        "from PIL import Image\n",
        "\n",
        "# Set desired image size (square)\n",
        "imsize = 256\n",
        "\n",
        "# URL of the image to download. You can put your own image here (or use the line below this instead, if you just upload your image)\n",
        "image_url = \"https://live.staticflickr.com/3826/11866023003_9034eac36b.jpg\"  # Replace with your image URL\n",
        "# Load your image\n",
        "#image_fun = Image.open('mypic.jpg')\n",
        "\n",
        "\n",
        "# Download the image\n",
        "response = requests.get(image_url)\n",
        "\n",
        "# Check if the request worked\n",
        "if response.status_code == 200:\n",
        "  # Open the image directly from the response content\n",
        "  image_fun = Image.open(requests.get(image_url, stream=True).raw)\n",
        "  print(image_fun.size)  # Prints the dimensions of the image (height, width, channels)\n",
        "  image_fun = image_fun.resize((imsize, imsize))\n",
        "  #plt.imshow(image_orig)\n",
        "  image_fun = np.array(image_fun.convert('L'))\n",
        "  print(image_fun.shape)\n",
        "  plt.imshow(image_fun, cmap='gray')\n",
        "  plt.colorbar()\n",
        "  plt.show()\n",
        "else:\n",
        "  print(f\"Failed to download image. Status code: {response.status_code}\")\n",
        "\n",
        "\n",
        "\n",
        "\n",
        "# Define the stripe height - Feel free to adjust this (affects the two stripe images created below)\n",
        "stripe_height = 32  # Adjust for stripe width\n",
        "\n",
        "# Create an empty numpy array for the image\n",
        "image_horizontal = np.zeros((imsize, imsize), dtype=np.uint8)\n",
        "# Set alternating horizonal stripes\n",
        "for y in range(imsize):\n",
        "    image_horizontal[y, :] = 255 if (y // stripe_height) % 2 == 0 else 0\n",
        "plt.imshow(image_horizontal, cmap='gray')\n",
        "plt.colorbar()\n",
        "plt.show()\n",
        "# Make a vertical stripe image\n",
        "image_vertical = np.transpose(image_horizontal)\n",
        "plt.imshow(image_vertical, cmap='gray')\n",
        "plt.colorbar()\n",
        "plt.show()\n",
        "plt.rcParams[\"figure.figsize\"] = (4,4)"
      ]
    },
    {
      "cell_type": "markdown",
      "source": [
        "# Add padding\n",
        "\n",
        "**Exercise 1:** Write a function to take in an input image and return a padded version of that image as set by `padding_size`. The original image should appear in the center of the padded image. The default approach is to do zero padding, but you can choose something fancier like replicating the nearest edge value if you prefer.\n",
        "\n",
        "We are going to make a set of 5x5 filters, so choose an appropriate padding size to preserve the image size after filtering.\n",
        "\n",
        "You can confirm this works by making `padding size` large, which should make a box around your image."
      ],
      "metadata": {
        "id": "0JYSn68a-nSs"
      }
    },
    {
      "cell_type": "code",
      "source": [
        "#Choose padding size\n",
        "padding_size = []\n",
        "\n",
        "\n",
        "def pad_image(image_in, padding_size):\n",
        "  # Put your code here\n",
        "\n",
        "  return image_out\n",
        "\n",
        "\n",
        "# Be careful if you use the same input and output name, as you will continue to grow your padding if you run this code repeatedly. It's safter to give a different output name.\n",
        "image = pad_image(image_fun, padding_size)\n",
        "\n",
        "print(\"Confirm that the size is what you expect:\")\n",
        "print(image.shape)\n",
        "print(image_fun.shape)\n",
        "plt.imshow(image, cmap='gray')\n",
        "plt.colorbar()\n",
        "plt.show()\n"
      ],
      "metadata": {
        "id": "KCBEtG9w-iJN"
      },
      "execution_count": null,
      "outputs": []
    },
    {
      "cell_type": "markdown",
      "source": [
        "# Create filters\n",
        "**Exercise 2:** Create a 5x5 filter to detect horizonal lines as a numpy array called `filter_horizontal`.  You will want to think about how the values you choose here affect the size of the output values."
      ],
      "metadata": {
        "id": "mw9fNnr3-gzB"
      }
    },
    {
      "cell_type": "code",
      "source": [
        "filter_horizontal = np.array([\n",
        "    [],\n",
        "])\n",
        "\n",
        "# Confirm the size and show the filter\n",
        "filter_size = filter_horizontal.shape[0]\n",
        "print(filter_size)\n",
        "plt.imshow(filter_horizontal, cmap='gray')\n",
        "plt.colorbar()\n",
        "plt.show()"
      ],
      "metadata": {
        "id": "6Z9PluTzXwJA"
      },
      "execution_count": null,
      "outputs": []
    },
    {
      "cell_type": "markdown",
      "source": [
        "# Filter function\n",
        "**Exercise 3:** Write a function to take in `image` and `filter` and apply the filter, returning the filtered image."
      ],
      "metadata": {
        "id": "AJcb0KhXDiVU"
      }
    },
    {
      "cell_type": "code",
      "source": [
        "def apply_filter(image, filter):\n",
        "  # Write code here!\n",
        "\n",
        "  return image_filtered"
      ],
      "metadata": {
        "id": "tUt0qBEXbJlW"
      },
      "execution_count": null,
      "outputs": []
    },
    {
      "cell_type": "markdown",
      "source": [
        "Check that your filter works on your image.\n",
        "\n",
        "Then, change the code to confirm that it works for the vertical and horizontal stripe images."
      ],
      "metadata": {
        "id": "bFOyI41XBIKU"
      }
    },
    {
      "cell_type": "code",
      "source": [
        "image = pad_image(image_fun, padding_size)\n",
        "image_filtered = apply_filter(image, filter_horizontal)\n",
        "plt.imshow(image_filtered, cmap='gray')\n",
        "plt.colorbar()\n",
        "plt.show()\n"
      ],
      "metadata": {
        "id": "rntv5n6hBRin"
      },
      "execution_count": null,
      "outputs": []
    },
    {
      "cell_type": "markdown",
      "source": [
        "# Generate more filters\n",
        "**Exercise 4:** Please write code to generate the following filters:\n",
        "* A vertical edge or line filter called `filter_vertical`\n",
        "* An on-center, off-surround filter called `filter_onCoffS`\n",
        "* An off-center, on-surround filter `filter_offConS`\n",
        "* A filter of your own choosing  `filter_mine`\n",
        "\n",
        "You will likely need to look these filters up. Specifically investigate what the on-center, off-surround filters are based on.\n",
        "\n",
        "You should normalize your filters in some way to avoid getting image values at the end that get really big or really negative. It is okay if your filters shift the resulting images to be have a mean closer to zero and include negative numbers.\n",
        "\n",
        "Please note that there are"
      ],
      "metadata": {
        "id": "mGnijy4CBVRY"
      }
    },
    {
      "cell_type": "code",
      "source": [
        "# Write your filters here.\n",
        "\n",
        "\n",
        "\n",
        "\n",
        "# You can check any of your filters here on your images by changing the variables below\n",
        "image = pad_image(image_fun, padding_size) #change image\n",
        "image_filtered = apply_filter(image, filter_vertical) # change filter\n",
        "plt.imshow(image_filtered, cmap='gray')\n",
        "plt.colorbar()\n",
        "plt.show()"
      ],
      "metadata": {
        "id": "kYnVsIbKBfSW"
      },
      "execution_count": null,
      "outputs": []
    },
    {
      "cell_type": "markdown",
      "source": [
        "# Plot filters and filtered images\n",
        "Here's some code to make a figure with subplot to show each of your filters and filtered images.\n",
        "\n",
        "**Exercise 4 (part 2)**\n",
        "Be prepared to share this image in class and discuss your filters.  We suggest that you save a copy of this image somewhere (you can just right click on it and click Save As)."
      ],
      "metadata": {
        "id": "WLWYvjHeBomz"
      }
    },
    {
      "cell_type": "code",
      "source": [
        "image_dict = {\"Horizontal Image\":image_horizontal, \"Vertical Image\":image_vertical, \"My Image\":image_fun}\n",
        "filter_dict = {\"Horizontal Filter\":filter_horizontal, \"Vertical Filter\":filter_vertical, \"On-Center, Off-Surround\":filter_onCoffS, \"Off-Center, On-Surround\":filter_offConS,\"My Filter\":filter_mine}\n",
        "\n",
        "\n",
        "fig, axs = plt.subplots(len(filter_dict) + 1, len(image_dict) + 1, figsize=(8, 11))\n",
        "axs[0, 0].axis('off')\n",
        "for image_name, image in image_dict.items():\n",
        "  image_index = 1+ list(image_dict.keys()).index(image_name)\n",
        "  image = axs[0, image_index].imshow(image, cmap='gray')\n",
        "  axs[0, image_index].set_title(image_name)\n",
        "  axs[0, image_index].axis('off')  # Hide axis ticks\n",
        "  plt.colorbar(image, ax=axs[0, image_index], orientation='vertical')\n",
        "\n",
        "for filter_name, filter in filter_dict.items():\n",
        "    filter_index = list(filter_dict.keys()).index(filter_name) + 1\n",
        "\n",
        "    # Display the filter and add colorbarf\n",
        "    img = axs[filter_index, 0].imshow(filter, cmap='gray')\n",
        "    axs[filter_index, 0].axis('off')  # Hide axis ticks\n",
        "    axs[filter_index, 0].set_title(filter_name)\n",
        "    plt.colorbar(img, ax=axs[filter_index, 0], orientation='vertical')\n",
        "\n",
        "    for image_name, image in image_dict.items():\n",
        "        image_index = list(image_dict.keys()).index(image_name) + 1\n",
        "\n",
        "        # Pad and filter the image\n",
        "        image_pad = pad_image(image, padding_size)\n",
        "        image_filtered = apply_filter(image_pad, filter)\n",
        "\n",
        "        # Display the filtered image and add colorbar\n",
        "        img_filtered = axs[filter_index, image_index].imshow(image_filtered, cmap='gray')\n",
        "        axs[filter_index, image_index].axis('off')  # Hide axis ticks\n",
        "        plt.colorbar(img_filtered, ax=axs[filter_index, image_index], orientation='vertical')\n",
        "\n",
        "plt.tight_layout()\n",
        "plt.show()\n",
        "\n"
      ],
      "metadata": {
        "id": "BVLofn5YW1PS"
      },
      "execution_count": null,
      "outputs": []
    },
    {
      "cell_type": "markdown",
      "source": [
        "**Exercise 5:** Convert one of your filters into a torch tensor and apply the same convolution using a pytorch function. You will need to look up how to do a convolutional layer in pytorch and then put in the proper variables. Don't worry about padding here."
      ],
      "metadata": {
        "id": "HgEjGcTcL47J"
      }
    },
    {
      "cell_type": "code",
      "source": [
        "import torch\n",
        "\n",
        "image = torch.tensor(image_fun, dtype=torch.float32).unsqueeze(0)\n",
        "#Write code here. You'll need to convert your filter (sometimes called a kernel) and apply the convolution\n",
        "\n",
        "# Name your filtered image \"out\", or change the code below\n",
        "\n",
        "plt.imshow(out.detach().numpy().squeeze(), cmap='gray')\n",
        "plt.show()"
      ],
      "metadata": {
        "id": "GlfCrxZr7GqF"
      },
      "execution_count": null,
      "outputs": []
    },
    {
      "cell_type": "markdown",
      "source": [
        "Yay, you're finished! Make sure to write down any questions in the assignment submission and to be prepared to share your results in class."
      ],
      "metadata": {
        "id": "sGSTNfC9MmOt"
      }
    }
  ]
}