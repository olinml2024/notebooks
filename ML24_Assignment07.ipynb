{
  "nbformat": 4,
  "nbformat_minor": 0,
  "metadata": {
    "colab": {
      "provenance": [],
      "gpuType": "T4",
      "authorship_tag": "ABX9TyOApV0bcNGQMOAWbqt/BB0n",
      "include_colab_link": true
    },
    "kernelspec": {
      "name": "python3",
      "display_name": "Python 3"
    },
    "language_info": {
      "name": "python"
    },
    "accelerator": "GPU"
  },
  "cells": [
    {
      "cell_type": "markdown",
      "metadata": {
        "id": "view-in-github",
        "colab_type": "text"
      },
      "source": [
        "<a href=\"https://colab.research.google.com/github/olinml2024/notebooks/blob/main/ML24_Assignment07.ipynb\" target=\"_parent\"><img src=\"https://colab.research.google.com/assets/colab-badge.svg\" alt=\"Open In Colab\"/></a>"
      ]
    },
    {
      "cell_type": "markdown",
      "source": [
        "# Autograd\n",
        "\n",
        "**High-level picture:** In this assignment you'll be implementing your very own system for automatic differentiation.  You'll then see how this framework can be used for solving a range of machine learning problems by using your autograd engine within a gradient descent optimizer.  We'll conclude by comparing the system your autograd engine with the popular machine learning library `pytorch`.\n",
        "\n",
        "Credits: the design of the autograd engine you will be implementing is based on the micrograd framework from Andrej Karpathy.  You may find it useful [to watch Andrej Karpathy's walkthrough video](https://www.youtube.com/watch?v=VMj-3S1tku0&t=2414s) of this.  A lot of what we've done in the first 2/3 of the assignment follows along the same lines, but we felt it important to explicitly define exercises so that you are actively doing things and reasoning about what you are implementing rather than just passively watching."
      ],
      "metadata": {
        "id": "W4XJxHcvIzCF"
      }
    },
    {
      "cell_type": "markdown",
      "source": [
        "1. Recall the definition of a derivative and a partial derivative and how it can be approximated numerically.  Test on a simple function and make sure the calculus and the numerical approximation agree.\n",
        "\n",
        "2. Create a `Value` class that provides represents a scalar value.  Define an addition function that allows you to add Value objects together.  Keep a placeholder to store, as a Python `set`, the Values that feed into the returned value.  When you define your addition function call, define it is `__add__(self, other)` so you can use the syntax `a+b` to add two value objects.  Test your class on some simple inputs.\n",
        "\n",
        "3. Add a multiplication function to your class.  You can copy-paste your code from 2 so you still have a record of how your code was on exercise 2.  Test this on a simple expression.\n",
        "\n",
        "4. Draw a dataflow diagram representing `x*y + z*z*x` (involving additions and multiplications).  Work out the partial derivatives.\n",
        "\n",
        "5. Add the provided template code (`draw_dot`, `trace`, and an import statement) and use it to draw the dataflow diagram automatically.  You'll need to add a string `_op` that describes the operation for your `Value` object for the purposes of this visualization.  You may need to adjust the draw_dot function based on the variable names you chose for your Value class.  Feel free to set the vaues for x, y, and z to whatever you'd like.\n",
        "\n",
        "6. Add a placeholder to store a partial derivative with our value function (let's call this variable `grad` in your `Value` class).  It will represent the partial derivative of the final expression with respect to the value.  By default it should have the value 0.  We'll give you a template for the `_backward()` function and you will fill in the blanks for addition and multiplication.  This should follow the same template as what we did in class last time.  Test your function by defining values to represent `x` and `y` and then computing `z = x*y`.  Call `_backward` on the x, y, and z in an appropriate order (you decide) and then make sure the values of `x.grad`, `y.grad`, and `z.grad` are correct.\n",
        "\n",
        "6. Add support for the sigmoid function and log loss.  Come up with a suitable test case for your new function and make sure that your implementation agrees with what you expect.  Make sure that the output and `grad` are computed appropriately.  Note: you should choose something pretty simple here. Avoid doing more than one operation in a single assignment as that will make it hard to properly call `_backward()` (i.e., don't do ``z =(x*y+z).sigmoid()`).  If you'd like, we have provided an updated `draw_dot` function to visualize `grad`.\n",
        "\n",
        "7. Add the backward function that we provide (or implement it if you want).  We'll explain what's happening.  Students will explain why the reverse topological sort is necessary.\n",
        "\n",
        "8. Use the `backward` function to evaluate the partial derivatives of $f = xy + z^2x$ with respect to $x$, $y$, and $z$.\n",
        "\n",
        "9. Implement a logistic regression model on the Titanic dataset.  Use a fixed learning rate.  We'll provide a reference implementation in Pytorch.  Make sure they converge to the same thing.  We'll provide starter code that downloads the data and creates a model of the form $p(survival) = \\sigma(w_1 \\times sex + w_2 \\times age + w_3)$ (you can think of $w_3$ as our constant offset).\n",
        "\n",
        "10. (bonus) experiment with different learning rates or learning rate schedules to see how it changes the speed at which the model converges."
      ],
      "metadata": {
        "id": "8I_k_hR3KkYA"
      }
    },
    {
      "cell_type": "markdown",
      "source": [
        "**Exercise 1 Solution**"
      ],
      "metadata": {
        "id": "HRqgZ567QHQH"
      }
    },
    {
      "cell_type": "code",
      "source": [
        "from math import sin, cos\n",
        "\n",
        "def f(x):\n",
        "    return x**2 + 5*x\n",
        "\n",
        "def df(x):\n",
        "    return 2*x + 5\n",
        "\n",
        "x = 3\n",
        "h = 0.001\n",
        "\n",
        "df_approx = (f(x+h) - f(x))/h\n",
        "\n",
        "print(f\"derivative using calculus {df(x)} approximation of derivative {df_approx}\")\n",
        "\n",
        "def g(x,y):\n",
        "    return sin(x)*y**2\n",
        "\n",
        "def dg_dx(x,y):\n",
        "    return cos(x)*y**2\n",
        "\n",
        "def dg_dy(x,y):\n",
        "    return 2*y*sin(x)\n",
        "\n",
        "x = 2\n",
        "y = 1\n",
        "\n",
        "dg_dx_approx = (g(x+h,y) - g(x,y))/h\n",
        "dg_dy_approx = (g(x,y+h) - g(x,y))/h\n",
        "\n",
        "print(f\"derivative using calculus {dg_dx(x,y)} approximation of derivative {dg_dx_approx}\")\n",
        "print(f\"derivative using calculus {dg_dy(x,y)} approximation of derivative {dg_dy_approx}\")"
      ],
      "metadata": {
        "colab": {
          "base_uri": "https://localhost:8080/"
        },
        "id": "7-si4gdfI3GU",
        "outputId": "72e0aea3-eca4-402b-88c2-ed77241773ef"
      },
      "execution_count": 19,
      "outputs": [
        {
          "output_type": "stream",
          "name": "stdout",
          "text": [
            "derivative using calculus 11 approximation of derivative 11.00100000000026\n",
            "derivative using calculus -0.4161468365471424 approximation of derivative -0.416601415864859\n",
            "derivative using calculus 1.8185948536513634 approximation of derivative 1.8195041510778998\n"
          ]
        }
      ]
    },
    {
      "cell_type": "markdown",
      "source": [
        "**Exercise 2 Solution**"
      ],
      "metadata": {
        "id": "5GHIFjX5TRq5"
      }
    },
    {
      "cell_type": "code",
      "source": [
        "class Value:\n",
        "    def __init__(self, data, _children=()):\n",
        "        self.data = data\n",
        "        self._prev = set(_children)\n",
        "\n",
        "    def __add__(self, other):\n",
        "        return Value(self.data + other.data, (self, other))\n",
        "\n",
        "x = Value(3)\n",
        "y = Value(7)\n",
        "z = x + y\n",
        "print(z.data)       # should be 10"
      ],
      "metadata": {
        "colab": {
          "base_uri": "https://localhost:8080/"
        },
        "id": "P0dRt6MYPY1a",
        "outputId": "978987cc-3560-46da-e8d1-3df921c09ddf"
      },
      "execution_count": 20,
      "outputs": [
        {
          "output_type": "stream",
          "name": "stdout",
          "text": [
            "10\n"
          ]
        }
      ]
    },
    {
      "cell_type": "markdown",
      "source": [
        "**Exercise 3 Solution**"
      ],
      "metadata": {
        "id": "xHdBuQtBTVOI"
      }
    },
    {
      "cell_type": "code",
      "source": [
        "class Value:\n",
        "    def __init__(self, data, _children=()):\n",
        "        self.data = data\n",
        "        self._prev = set(_children)\n",
        "\n",
        "    def __add__(self, other):\n",
        "        return Value(self.data + other.data, (self, other))\n",
        "\n",
        "    def __mul__(self, other):\n",
        "        return Value(self.data * other.data, (self, other))\n",
        "\n",
        "q = Value(2) * Value(3)\n",
        "print(q.data)           # should be 6"
      ],
      "metadata": {
        "colab": {
          "base_uri": "https://localhost:8080/"
        },
        "id": "T3PMdGI1QxAN",
        "outputId": "bd92afd5-057d-4bc9-f39e-9945b14c17eb"
      },
      "execution_count": 21,
      "outputs": [
        {
          "output_type": "stream",
          "name": "stdout",
          "text": [
            "6\n"
          ]
        }
      ]
    },
    {
      "cell_type": "markdown",
      "source": [
        "**Exercise 4 Solution**\n",
        "\n",
        "This one is pen and paper, need to work this one out."
      ],
      "metadata": {
        "id": "6Ssi00S7TZZT"
      }
    },
    {
      "cell_type": "markdown",
      "source": [
        "**Exercise 5 Solution**"
      ],
      "metadata": {
        "id": "Cql2GbbATgcl"
      }
    },
    {
      "cell_type": "code",
      "source": [
        "from graphviz import Digraph\n",
        "\n",
        "def trace(root):\n",
        "    nodes, edges = set(), set()\n",
        "    def build(v):\n",
        "        if v not in nodes:\n",
        "            nodes.add(v)\n",
        "            for child in v._prev:\n",
        "                edges.add((child, v))\n",
        "                build(child)\n",
        "    build(root)\n",
        "    return nodes, edges\n",
        "\n",
        "def draw_dot(root, format='svg', rankdir='LR'):\n",
        "    \"\"\"\n",
        "    format: png | svg | ...\n",
        "    rankdir: TB (top to bottom graph) | LR (left to right)\n",
        "    \"\"\"\n",
        "    assert rankdir in ['LR', 'TB']\n",
        "    nodes, edges = trace(root)\n",
        "    dot = Digraph(format=format, graph_attr={'rankdir': rankdir}) #, node_attr={'rankdir': 'TB'})\n",
        "\n",
        "    for n in nodes:\n",
        "        dot.node(name=str(id(n)), label = \"{ data %.4f }\" % (n.data), shape='record')\n",
        "        if n._op:\n",
        "            dot.node(name=str(id(n)) + n._op, label=n._op)\n",
        "            dot.edge(str(id(n)) + n._op, str(id(n)))\n",
        "\n",
        "    for n1, n2 in edges:\n",
        "        dot.edge(str(id(n1)), str(id(n2)) + n2._op)\n",
        "\n",
        "    return dot\n",
        "\n",
        "class Value:\n",
        "    def __init__(self, data, _children=(), _op=\"\"):\n",
        "        self.data = data\n",
        "        self._prev = set(_children)\n",
        "        self._op = _op\n",
        "\n",
        "    def __add__(self, other):\n",
        "        return Value(self.data + other.data, (self, other), '+')\n",
        "\n",
        "    def __mul__(self, other):\n",
        "        return Value(self.data * other.data, (self, other), '*')\n",
        "\n",
        "\n",
        "x = Value(7)\n",
        "y = Value(4)\n",
        "z = Value(2)\n",
        "q = x*y + z*z*x\n",
        "draw_dot(q)"
      ],
      "metadata": {
        "colab": {
          "base_uri": "https://localhost:8080/",
          "height": 228
        },
        "id": "nf4L8pVQRD5z",
        "outputId": "53e278ce-32d7-4584-ba07-59a1345a51be"
      },
      "execution_count": 22,
      "outputs": [
        {
          "output_type": "execute_result",
          "data": {
            "image/svg+xml": "<?xml version=\"1.0\" encoding=\"UTF-8\" standalone=\"no\"?>\n<!DOCTYPE svg PUBLIC \"-//W3C//DTD SVG 1.1//EN\"\n \"http://www.w3.org/Graphics/SVG/1.1/DTD/svg11.dtd\">\n<!-- Generated by graphviz version 2.43.0 (0)\n -->\n<!-- Title: %3 Pages: 1 -->\n<svg width=\"720pt\" height=\"155pt\"\n viewBox=\"0.00 0.00 720.00 155.00\" xmlns=\"http://www.w3.org/2000/svg\" xmlns:xlink=\"http://www.w3.org/1999/xlink\">\n<g id=\"graph0\" class=\"graph\" transform=\"scale(1 1) rotate(0) translate(4 151)\">\n<title>%3</title>\n<polygon fill=\"white\" stroke=\"transparent\" points=\"-4,4 -4,-151 716,-151 716,4 -4,4\"/>\n<!-- 131935004976672 -->\n<g id=\"node1\" class=\"node\">\n<title>131935004976672</title>\n<polygon fill=\"none\" stroke=\"black\" points=\"625,-54.5 625,-90.5 712,-90.5 712,-54.5 625,-54.5\"/>\n<text text-anchor=\"middle\" x=\"668.5\" y=\"-68.8\" font-family=\"Times,serif\" font-size=\"14.00\">data 56.0000</text>\n</g>\n<!-- 131935004976672+ -->\n<g id=\"node2\" class=\"node\">\n<title>131935004976672+</title>\n<ellipse fill=\"none\" stroke=\"black\" cx=\"562\" cy=\"-72.5\" rx=\"27\" ry=\"18\"/>\n<text text-anchor=\"middle\" x=\"562\" y=\"-68.8\" font-family=\"Times,serif\" font-size=\"14.00\">+</text>\n</g>\n<!-- 131935004976672+&#45;&gt;131935004976672 -->\n<g id=\"edge1\" class=\"edge\">\n<title>131935004976672+&#45;&gt;131935004976672</title>\n<path fill=\"none\" stroke=\"black\" d=\"M589.1,-72.5C596.83,-72.5 605.6,-72.5 614.4,-72.5\"/>\n<polygon fill=\"black\" stroke=\"black\" points=\"614.68,-76 624.68,-72.5 614.68,-69 614.68,-76\"/>\n</g>\n<!-- 131935004975136 -->\n<g id=\"node3\" class=\"node\">\n<title>131935004975136</title>\n<polygon fill=\"none\" stroke=\"black\" points=\"206,-0.5 206,-36.5 286,-36.5 286,-0.5 206,-0.5\"/>\n<text text-anchor=\"middle\" x=\"246\" y=\"-14.8\" font-family=\"Times,serif\" font-size=\"14.00\">data 4.0000</text>\n</g>\n<!-- 131935004976000* -->\n<g id=\"node11\" class=\"node\">\n<title>131935004976000*</title>\n<ellipse fill=\"none\" stroke=\"black\" cx=\"349\" cy=\"-45.5\" rx=\"27\" ry=\"18\"/>\n<text text-anchor=\"middle\" x=\"349\" y=\"-41.8\" font-family=\"Times,serif\" font-size=\"14.00\">*</text>\n</g>\n<!-- 131935004975136&#45;&gt;131935004976000* -->\n<g id=\"edge10\" class=\"edge\">\n<title>131935004975136&#45;&gt;131935004976000*</title>\n<path fill=\"none\" stroke=\"black\" d=\"M286.05,-28.94C295.24,-31.4 304.98,-34 313.93,-36.39\"/>\n<polygon fill=\"black\" stroke=\"black\" points=\"313.08,-39.79 323.65,-38.99 314.89,-33.03 313.08,-39.79\"/>\n</g>\n<!-- 131935004975136* -->\n<g id=\"node4\" class=\"node\">\n<title>131935004975136*</title>\n<ellipse fill=\"none\" stroke=\"black\" cx=\"143\" cy=\"-18.5\" rx=\"27\" ry=\"18\"/>\n<text text-anchor=\"middle\" x=\"143\" y=\"-14.8\" font-family=\"Times,serif\" font-size=\"14.00\">*</text>\n</g>\n<!-- 131935004975136*&#45;&gt;131935004975136 -->\n<g id=\"edge2\" class=\"edge\">\n<title>131935004975136*&#45;&gt;131935004975136</title>\n<path fill=\"none\" stroke=\"black\" d=\"M170.01,-18.5C177.82,-18.5 186.67,-18.5 195.48,-18.5\"/>\n<polygon fill=\"black\" stroke=\"black\" points=\"195.73,-22 205.73,-18.5 195.73,-15 195.73,-22\"/>\n</g>\n<!-- 131935004982864 -->\n<g id=\"node5\" class=\"node\">\n<title>131935004982864</title>\n<polygon fill=\"none\" stroke=\"black\" points=\"0,-0.5 0,-36.5 80,-36.5 80,-0.5 0,-0.5\"/>\n<text text-anchor=\"middle\" x=\"40\" y=\"-14.8\" font-family=\"Times,serif\" font-size=\"14.00\">data 2.0000</text>\n</g>\n<!-- 131935004982864&#45;&gt;131935004975136* -->\n<g id=\"edge8\" class=\"edge\">\n<title>131935004982864&#45;&gt;131935004975136*</title>\n<path fill=\"none\" stroke=\"black\" d=\"M80.05,-18.5C88.48,-18.5 97.36,-18.5 105.68,-18.5\"/>\n<polygon fill=\"black\" stroke=\"black\" points=\"105.85,-22 115.85,-18.5 105.85,-15 105.85,-22\"/>\n</g>\n<!-- 131935004982912 -->\n<g id=\"node6\" class=\"node\">\n<title>131935004982912</title>\n<polygon fill=\"none\" stroke=\"black\" points=\"206,-55.5 206,-91.5 286,-91.5 286,-55.5 206,-55.5\"/>\n<text text-anchor=\"middle\" x=\"246\" y=\"-69.8\" font-family=\"Times,serif\" font-size=\"14.00\">data 7.0000</text>\n</g>\n<!-- 131935004977968* -->\n<g id=\"node8\" class=\"node\">\n<title>131935004977968*</title>\n<ellipse fill=\"none\" stroke=\"black\" cx=\"349\" cy=\"-100.5\" rx=\"27\" ry=\"18\"/>\n<text text-anchor=\"middle\" x=\"349\" y=\"-96.8\" font-family=\"Times,serif\" font-size=\"14.00\">*</text>\n</g>\n<!-- 131935004982912&#45;&gt;131935004977968* -->\n<g id=\"edge5\" class=\"edge\">\n<title>131935004982912&#45;&gt;131935004977968*</title>\n<path fill=\"none\" stroke=\"black\" d=\"M286.05,-83.94C295.24,-86.4 304.98,-89 313.93,-91.39\"/>\n<polygon fill=\"black\" stroke=\"black\" points=\"313.08,-94.79 323.65,-93.99 314.89,-88.03 313.08,-94.79\"/>\n</g>\n<!-- 131935004982912&#45;&gt;131935004976000* -->\n<g id=\"edge7\" class=\"edge\">\n<title>131935004982912&#45;&gt;131935004976000*</title>\n<path fill=\"none\" stroke=\"black\" d=\"M286.05,-62.67C295.24,-60.13 304.98,-57.43 313.93,-54.94\"/>\n<polygon fill=\"black\" stroke=\"black\" points=\"314.94,-58.3 323.65,-52.25 313.07,-51.55 314.94,-58.3\"/>\n</g>\n<!-- 131935004977968 -->\n<g id=\"node7\" class=\"node\">\n<title>131935004977968</title>\n<polygon fill=\"none\" stroke=\"black\" points=\"412,-82.5 412,-118.5 499,-118.5 499,-82.5 412,-82.5\"/>\n<text text-anchor=\"middle\" x=\"455.5\" y=\"-96.8\" font-family=\"Times,serif\" font-size=\"14.00\">data 28.0000</text>\n</g>\n<!-- 131935004977968&#45;&gt;131935004976672+ -->\n<g id=\"edge9\" class=\"edge\">\n<title>131935004977968&#45;&gt;131935004976672+</title>\n<path fill=\"none\" stroke=\"black\" d=\"M499,-89.11C508.18,-86.65 517.78,-84.08 526.6,-81.72\"/>\n<polygon fill=\"black\" stroke=\"black\" points=\"527.78,-85.02 536.53,-79.06 525.97,-78.26 527.78,-85.02\"/>\n</g>\n<!-- 131935004977968*&#45;&gt;131935004977968 -->\n<g id=\"edge3\" class=\"edge\">\n<title>131935004977968*&#45;&gt;131935004977968</title>\n<path fill=\"none\" stroke=\"black\" d=\"M376.1,-100.5C383.83,-100.5 392.6,-100.5 401.4,-100.5\"/>\n<polygon fill=\"black\" stroke=\"black\" points=\"401.68,-104 411.68,-100.5 401.68,-97 401.68,-104\"/>\n</g>\n<!-- 131935004976432 -->\n<g id=\"node9\" class=\"node\">\n<title>131935004976432</title>\n<polygon fill=\"none\" stroke=\"black\" points=\"206,-110.5 206,-146.5 286,-146.5 286,-110.5 206,-110.5\"/>\n<text text-anchor=\"middle\" x=\"246\" y=\"-124.8\" font-family=\"Times,serif\" font-size=\"14.00\">data 4.0000</text>\n</g>\n<!-- 131935004976432&#45;&gt;131935004977968* -->\n<g id=\"edge6\" class=\"edge\">\n<title>131935004976432&#45;&gt;131935004977968*</title>\n<path fill=\"none\" stroke=\"black\" d=\"M286.05,-117.67C295.24,-115.13 304.98,-112.43 313.93,-109.94\"/>\n<polygon fill=\"black\" stroke=\"black\" points=\"314.94,-113.3 323.65,-107.25 313.07,-106.55 314.94,-113.3\"/>\n</g>\n<!-- 131935004976000 -->\n<g id=\"node10\" class=\"node\">\n<title>131935004976000</title>\n<polygon fill=\"none\" stroke=\"black\" points=\"412,-27.5 412,-63.5 499,-63.5 499,-27.5 412,-27.5\"/>\n<text text-anchor=\"middle\" x=\"455.5\" y=\"-41.8\" font-family=\"Times,serif\" font-size=\"14.00\">data 28.0000</text>\n</g>\n<!-- 131935004976000&#45;&gt;131935004976672+ -->\n<g id=\"edge11\" class=\"edge\">\n<title>131935004976000&#45;&gt;131935004976672+</title>\n<path fill=\"none\" stroke=\"black\" d=\"M499,-56.48C508.18,-58.85 517.78,-61.33 526.6,-63.61\"/>\n<polygon fill=\"black\" stroke=\"black\" points=\"525.97,-67.07 536.53,-66.18 527.73,-60.29 525.97,-67.07\"/>\n</g>\n<!-- 131935004976000*&#45;&gt;131935004976000 -->\n<g id=\"edge4\" class=\"edge\">\n<title>131935004976000*&#45;&gt;131935004976000</title>\n<path fill=\"none\" stroke=\"black\" d=\"M376.1,-45.5C383.83,-45.5 392.6,-45.5 401.4,-45.5\"/>\n<polygon fill=\"black\" stroke=\"black\" points=\"401.68,-49 411.68,-45.5 401.68,-42 401.68,-49\"/>\n</g>\n</g>\n</svg>\n",
            "text/plain": [
              "<graphviz.graphs.Digraph at 0x77fe831af790>"
            ]
          },
          "metadata": {},
          "execution_count": 22
        }
      ]
    },
    {
      "cell_type": "markdown",
      "source": [
        "**Exercise 6**"
      ],
      "metadata": {
        "id": "VfPH-M5ETnz6"
      }
    },
    {
      "cell_type": "code",
      "source": [
        "class Value:\n",
        "    def __init__(self, data, _children=(), _op=\"\"):\n",
        "        self.data = data\n",
        "        self._prev = set(_children)\n",
        "        self._op = _op\n",
        "        self._backward = lambda : None\n",
        "        self.grad = 0\n",
        "\n",
        "    def __add__(self, other):\n",
        "        out = Value(self.data + other.data, (self, other), '+')\n",
        "        def _backward():\n",
        "            self.grad += 1 * out.grad\n",
        "            other.grad += 1 * out.grad\n",
        "        out._backward = _backward\n",
        "        return out\n",
        "\n",
        "    def __mul__(self, other):\n",
        "        out = Value(self.data * other.data, (self, other), '+')\n",
        "        def _backward():\n",
        "            self.grad += other.data * out.grad\n",
        "            other.grad += self.data * out.grad\n",
        "        out._backward = _backward\n",
        "        return out\n",
        "\n",
        "x = Value(3)\n",
        "y = Value(8)\n",
        "z = x*y\n",
        "\n",
        "z.grad = 1\n",
        "z._backward()\n",
        "y._backward()\n",
        "x._backward()\n",
        "\n",
        "print(x.grad)\n",
        "print(y.grad)\n",
        "print(z.grad)\n",
        "draw_dot(z)"
      ],
      "metadata": {
        "colab": {
          "base_uri": "https://localhost:8080/",
          "height": 207
        },
        "id": "2kfUDUz0R3ji",
        "outputId": "a1a579cc-05ec-4401-edfd-b04bf1c4abaf"
      },
      "execution_count": 23,
      "outputs": [
        {
          "output_type": "stream",
          "name": "stdout",
          "text": [
            "8\n",
            "3\n",
            "1\n"
          ]
        },
        {
          "output_type": "execute_result",
          "data": {
            "image/svg+xml": "<?xml version=\"1.0\" encoding=\"UTF-8\" standalone=\"no\"?>\n<!DOCTYPE svg PUBLIC \"-//W3C//DTD SVG 1.1//EN\"\n \"http://www.w3.org/Graphics/SVG/1.1/DTD/svg11.dtd\">\n<!-- Generated by graphviz version 2.43.0 (0)\n -->\n<!-- Title: %3 Pages: 1 -->\n<svg width=\"301pt\" height=\"100pt\"\n viewBox=\"0.00 0.00 301.00 100.00\" xmlns=\"http://www.w3.org/2000/svg\" xmlns:xlink=\"http://www.w3.org/1999/xlink\">\n<g id=\"graph0\" class=\"graph\" transform=\"scale(1 1) rotate(0) translate(4 96)\">\n<title>%3</title>\n<polygon fill=\"white\" stroke=\"transparent\" points=\"-4,4 -4,-96 297,-96 297,4 -4,4\"/>\n<!-- 131935005277440 -->\n<g id=\"node1\" class=\"node\">\n<title>131935005277440</title>\n<polygon fill=\"none\" stroke=\"black\" points=\"0,-55.5 0,-91.5 80,-91.5 80,-55.5 0,-55.5\"/>\n<text text-anchor=\"middle\" x=\"40\" y=\"-69.8\" font-family=\"Times,serif\" font-size=\"14.00\">data 3.0000</text>\n</g>\n<!-- 131935005271872+ -->\n<g id=\"node4\" class=\"node\">\n<title>131935005271872+</title>\n<ellipse fill=\"none\" stroke=\"black\" cx=\"143\" cy=\"-45.5\" rx=\"27\" ry=\"18\"/>\n<text text-anchor=\"middle\" x=\"143\" y=\"-41.8\" font-family=\"Times,serif\" font-size=\"14.00\">+</text>\n</g>\n<!-- 131935005277440&#45;&gt;131935005271872+ -->\n<g id=\"edge2\" class=\"edge\">\n<title>131935005277440&#45;&gt;131935005271872+</title>\n<path fill=\"none\" stroke=\"black\" d=\"M80.05,-62.67C89.24,-60.13 98.98,-57.43 107.93,-54.94\"/>\n<polygon fill=\"black\" stroke=\"black\" points=\"108.94,-58.3 117.65,-52.25 107.07,-51.55 108.94,-58.3\"/>\n</g>\n<!-- 131935005278112 -->\n<g id=\"node2\" class=\"node\">\n<title>131935005278112</title>\n<polygon fill=\"none\" stroke=\"black\" points=\"0,-0.5 0,-36.5 80,-36.5 80,-0.5 0,-0.5\"/>\n<text text-anchor=\"middle\" x=\"40\" y=\"-14.8\" font-family=\"Times,serif\" font-size=\"14.00\">data 8.0000</text>\n</g>\n<!-- 131935005278112&#45;&gt;131935005271872+ -->\n<g id=\"edge3\" class=\"edge\">\n<title>131935005278112&#45;&gt;131935005271872+</title>\n<path fill=\"none\" stroke=\"black\" d=\"M80.05,-28.94C89.24,-31.4 98.98,-34 107.93,-36.39\"/>\n<polygon fill=\"black\" stroke=\"black\" points=\"107.08,-39.79 117.65,-38.99 108.89,-33.03 107.08,-39.79\"/>\n</g>\n<!-- 131935005271872 -->\n<g id=\"node3\" class=\"node\">\n<title>131935005271872</title>\n<polygon fill=\"none\" stroke=\"black\" points=\"206,-27.5 206,-63.5 293,-63.5 293,-27.5 206,-27.5\"/>\n<text text-anchor=\"middle\" x=\"249.5\" y=\"-41.8\" font-family=\"Times,serif\" font-size=\"14.00\">data 24.0000</text>\n</g>\n<!-- 131935005271872+&#45;&gt;131935005271872 -->\n<g id=\"edge1\" class=\"edge\">\n<title>131935005271872+&#45;&gt;131935005271872</title>\n<path fill=\"none\" stroke=\"black\" d=\"M170.1,-45.5C177.83,-45.5 186.6,-45.5 195.4,-45.5\"/>\n<polygon fill=\"black\" stroke=\"black\" points=\"195.68,-49 205.68,-45.5 195.68,-42 195.68,-49\"/>\n</g>\n</g>\n</svg>\n",
            "text/plain": [
              "<graphviz.graphs.Digraph at 0x77fe8ee39a80>"
            ]
          },
          "metadata": {},
          "execution_count": 23
        }
      ]
    },
    {
      "cell_type": "markdown",
      "source": [
        "**Exercise 7 Solution**"
      ],
      "metadata": {
        "id": "PLSGHVVGcSGe"
      }
    },
    {
      "cell_type": "code",
      "source": [
        "from math import exp, log\n",
        "def draw_dot(root, format='svg', rankdir='LR'):\n",
        "    \"\"\"\n",
        "    format: png | svg | ...\n",
        "    rankdir: TB (top to bottom graph) | LR (left to right)\n",
        "    \"\"\"\n",
        "    assert rankdir in ['LR', 'TB']\n",
        "    nodes, edges = trace(root)\n",
        "    dot = Digraph(format=format, graph_attr={'rankdir': rankdir}) #, node_attr={'rankdir': 'TB'})\n",
        "\n",
        "    for n in nodes:\n",
        "        dot.node(name=str(id(n)), label = \"{ data %.4f | grad %.4f }\" % (n.data, n.grad), shape='record')\n",
        "        if n._op:\n",
        "            dot.node(name=str(id(n)) + n._op, label=n._op)\n",
        "            dot.edge(str(id(n)) + n._op, str(id(n)))\n",
        "\n",
        "    for n1, n2 in edges:\n",
        "        dot.edge(str(id(n1)), str(id(n2)) + n2._op)\n",
        "\n",
        "    return dot\n",
        "class Value:\n",
        "    def __init__(self, data, _children=(), _op=\"\"):\n",
        "        self.data = data\n",
        "        self._prev = set(_children)\n",
        "        self._op = _op\n",
        "        self._backward = lambda : None\n",
        "        self.grad = 0\n",
        "\n",
        "    def __add__(self, other):\n",
        "        out = Value(self.data + other.data, (self, other), '+')\n",
        "        def _backward():\n",
        "            self.grad += 1 * out.grad\n",
        "            other.grad += 1 * out.grad\n",
        "        out._backward = _backward\n",
        "        return out\n",
        "\n",
        "    def __mul__(self, other):\n",
        "        out = Value(self.data * other.data, (self, other), '+')\n",
        "        def _backward():\n",
        "            self.grad += other.data * out.grad\n",
        "            other.grad += self.data * out.grad\n",
        "        out._backward = _backward\n",
        "        return out\n",
        "\n",
        "    def sigmoid(self):\n",
        "        out = Value(1./(1+exp(-self.data)), _children=(self,), _op='sigmoid')\n",
        "        def _backward():\n",
        "            self.grad += out.grad * out.data * (1 - out.data)\n",
        "        out._backward = _backward\n",
        "        return out\n",
        "\n",
        "    def logloss(self, y):\n",
        "        out = Value(-y.data*log(self.data) - (1-y.data)*log(1-self.data), (self, y), 'logloss')\n",
        "        def _backward():\n",
        "            self.grad += out.grad * (-y.data/self.data + (1-y.data)/(1-self.data))\n",
        "            y.grad += out.grad * (-y.data*log(self.data)+log(1-self.data))\n",
        "\n",
        "        out._backward = _backward\n",
        "        return out\n",
        "\n",
        "x = Value(3)\n",
        "z = x.sigmoid()\n",
        "y = Value(1.0)\n",
        "log_loss = z.logloss(y)\n",
        "print(f\"{z.data}\")       # this should be 1/(1+exp(-3)) = 0.9525741268224334\n",
        "print(f\"{log_loss.data}\")       # this should be -log(0.9525741268224334) = 0.04858735157374191(note: log is natural log)\n",
        "log_loss.grad = 1\n",
        "log_loss._backward()\n",
        "z._backward()\n",
        "y._backward()\n",
        "x._backward()\n",
        "print(f\"{x.grad}\")      # TODO: what should this be?\n",
        "draw_dot(log_loss)"
      ],
      "metadata": {
        "colab": {
          "base_uri": "https://localhost:8080/",
          "height": 227
        },
        "id": "u_CLbqKkUxVd",
        "outputId": "1814ac36-d438-4279-9ebe-d485b640961d"
      },
      "execution_count": 24,
      "outputs": [
        {
          "output_type": "stream",
          "name": "stdout",
          "text": [
            "0.9525741268224334\n",
            "0.04858735157374191\n",
            "-0.047425873177566635\n"
          ]
        },
        {
          "output_type": "execute_result",
          "data": {
            "image/svg+xml": "<?xml version=\"1.0\" encoding=\"UTF-8\" standalone=\"no\"?>\n<!DOCTYPE svg PUBLIC \"-//W3C//DTD SVG 1.1//EN\"\n \"http://www.w3.org/Graphics/SVG/1.1/DTD/svg11.dtd\">\n<!-- Generated by graphviz version 2.43.0 (0)\n -->\n<!-- Title: %3 Pages: 1 -->\n<svg width=\"797pt\" height=\"100pt\"\n viewBox=\"0.00 0.00 796.79 100.00\" xmlns=\"http://www.w3.org/2000/svg\" xmlns:xlink=\"http://www.w3.org/1999/xlink\">\n<g id=\"graph0\" class=\"graph\" transform=\"scale(1 1) rotate(0) translate(4 96)\">\n<title>%3</title>\n<polygon fill=\"white\" stroke=\"transparent\" points=\"-4,4 -4,-96 792.79,-96 792.79,4 -4,4\"/>\n<!-- 131935203229312 -->\n<g id=\"node1\" class=\"node\">\n<title>131935203229312</title>\n<polygon fill=\"none\" stroke=\"black\" points=\"317.29,-0.5 317.29,-36.5 483.29,-36.5 483.29,-0.5 317.29,-0.5\"/>\n<text text-anchor=\"middle\" x=\"357.29\" y=\"-14.8\" font-family=\"Times,serif\" font-size=\"14.00\">data 0.9526</text>\n<polyline fill=\"none\" stroke=\"black\" points=\"397.29,-0.5 397.29,-36.5 \"/>\n<text text-anchor=\"middle\" x=\"440.29\" y=\"-14.8\" font-family=\"Times,serif\" font-size=\"14.00\">grad &#45;1.0498</text>\n</g>\n<!-- 131935203214144logloss -->\n<g id=\"node5\" class=\"node\">\n<title>131935203214144logloss</title>\n<ellipse fill=\"none\" stroke=\"black\" cx=\"555.04\" cy=\"-45.5\" rx=\"36\" ry=\"18\"/>\n<text text-anchor=\"middle\" x=\"555.04\" y=\"-41.8\" font-family=\"Times,serif\" font-size=\"14.00\">logloss</text>\n</g>\n<!-- 131935203229312&#45;&gt;131935203214144logloss -->\n<g id=\"edge5\" class=\"edge\">\n<title>131935203229312&#45;&gt;131935203214144logloss</title>\n<path fill=\"none\" stroke=\"black\" d=\"M483.48,-33.03C492.92,-34.7 502.24,-36.34 510.85,-37.87\"/>\n<polygon fill=\"black\" stroke=\"black\" points=\"510.52,-41.36 520.98,-39.66 511.74,-34.47 510.52,-41.36\"/>\n</g>\n<!-- 131935203229312sigmoid -->\n<g id=\"node2\" class=\"node\">\n<title>131935203229312sigmoid</title>\n<ellipse fill=\"none\" stroke=\"black\" cx=\"241.65\" cy=\"-18.5\" rx=\"39.79\" ry=\"18\"/>\n<text text-anchor=\"middle\" x=\"241.65\" y=\"-14.8\" font-family=\"Times,serif\" font-size=\"14.00\">sigmoid</text>\n</g>\n<!-- 131935203229312sigmoid&#45;&gt;131935203229312 -->\n<g id=\"edge1\" class=\"edge\">\n<title>131935203229312sigmoid&#45;&gt;131935203229312</title>\n<path fill=\"none\" stroke=\"black\" d=\"M281.37,-18.5C289.33,-18.5 298.04,-18.5 307,-18.5\"/>\n<polygon fill=\"black\" stroke=\"black\" points=\"307.19,-22 317.19,-18.5 307.19,-15 307.19,-22\"/>\n</g>\n<!-- 131935203229504 -->\n<g id=\"node3\" class=\"node\">\n<title>131935203229504</title>\n<polygon fill=\"none\" stroke=\"black\" points=\"0,-0.5 0,-36.5 166,-36.5 166,-0.5 0,-0.5\"/>\n<text text-anchor=\"middle\" x=\"40\" y=\"-14.8\" font-family=\"Times,serif\" font-size=\"14.00\">data 3.0000</text>\n<polyline fill=\"none\" stroke=\"black\" points=\"80,-0.5 80,-36.5 \"/>\n<text text-anchor=\"middle\" x=\"123\" y=\"-14.8\" font-family=\"Times,serif\" font-size=\"14.00\">grad &#45;0.0474</text>\n</g>\n<!-- 131935203229504&#45;&gt;131935203229312sigmoid -->\n<g id=\"edge3\" class=\"edge\">\n<title>131935203229504&#45;&gt;131935203229312sigmoid</title>\n<path fill=\"none\" stroke=\"black\" d=\"M166.45,-18.5C175.16,-18.5 183.8,-18.5 191.94,-18.5\"/>\n<polygon fill=\"black\" stroke=\"black\" points=\"191.94,-22 201.94,-18.5 191.94,-15 191.94,-22\"/>\n</g>\n<!-- 131935203214144 -->\n<g id=\"node4\" class=\"node\">\n<title>131935203214144</title>\n<polygon fill=\"none\" stroke=\"black\" points=\"626.79,-27.5 626.79,-63.5 788.79,-63.5 788.79,-27.5 626.79,-27.5\"/>\n<text text-anchor=\"middle\" x=\"666.79\" y=\"-41.8\" font-family=\"Times,serif\" font-size=\"14.00\">data 0.0486</text>\n<polyline fill=\"none\" stroke=\"black\" points=\"706.79,-27.5 706.79,-63.5 \"/>\n<text text-anchor=\"middle\" x=\"747.79\" y=\"-41.8\" font-family=\"Times,serif\" font-size=\"14.00\">grad 1.0000</text>\n</g>\n<!-- 131935203214144logloss&#45;&gt;131935203214144 -->\n<g id=\"edge2\" class=\"edge\">\n<title>131935203214144logloss&#45;&gt;131935203214144</title>\n<path fill=\"none\" stroke=\"black\" d=\"M591,-45.5C598.84,-45.5 607.5,-45.5 616.46,-45.5\"/>\n<polygon fill=\"black\" stroke=\"black\" points=\"616.67,-49 626.67,-45.5 616.67,-42 616.67,-49\"/>\n</g>\n<!-- 131935203229216 -->\n<g id=\"node6\" class=\"node\">\n<title>131935203229216</title>\n<polygon fill=\"none\" stroke=\"black\" points=\"317.29,-55.5 317.29,-91.5 483.29,-91.5 483.29,-55.5 317.29,-55.5\"/>\n<text text-anchor=\"middle\" x=\"357.29\" y=\"-69.8\" font-family=\"Times,serif\" font-size=\"14.00\">data 1.0000</text>\n<polyline fill=\"none\" stroke=\"black\" points=\"397.29,-55.5 397.29,-91.5 \"/>\n<text text-anchor=\"middle\" x=\"440.29\" y=\"-69.8\" font-family=\"Times,serif\" font-size=\"14.00\">grad &#45;3.0000</text>\n</g>\n<!-- 131935203229216&#45;&gt;131935203214144logloss -->\n<g id=\"edge4\" class=\"edge\">\n<title>131935203229216&#45;&gt;131935203214144logloss</title>\n<path fill=\"none\" stroke=\"black\" d=\"M483.48,-58.43C493.02,-56.69 502.44,-54.96 511.14,-53.36\"/>\n<polygon fill=\"black\" stroke=\"black\" points=\"511.78,-56.81 520.98,-51.56 510.51,-49.92 511.78,-56.81\"/>\n</g>\n</g>\n</svg>\n",
            "text/plain": [
              "<graphviz.graphs.Digraph at 0x77fe8eebc6a0>"
            ]
          },
          "metadata": {},
          "execution_count": 24
        }
      ]
    },
    {
      "cell_type": "markdown",
      "source": [
        "**Exercise 8 Solution**"
      ],
      "metadata": {
        "id": "reQeMZaecLeT"
      }
    },
    {
      "cell_type": "code",
      "source": [
        "class Value:\n",
        "    def __init__(self, data, _children=(), _op=\"\"):\n",
        "        self.data = data\n",
        "        self._prev = set(_children)\n",
        "        self._op = _op\n",
        "        self._backward = lambda : None\n",
        "        self.grad = 0\n",
        "\n",
        "    def __add__(self, other):\n",
        "        out = Value(self.data + other.data, (self, other), '+')\n",
        "        def _backward():\n",
        "            self.grad += 1 * out.grad\n",
        "            other.grad += 1 * out.grad\n",
        "        out._backward = _backward\n",
        "        return out\n",
        "\n",
        "    def __mul__(self, other):\n",
        "        out = Value(self.data * other.data, (self, other), '+')\n",
        "        def _backward():\n",
        "            self.grad += other.data * out.grad\n",
        "            other.grad += self.data * out.grad\n",
        "        out._backward = _backward\n",
        "        return out\n",
        "\n",
        "    def sigmoid(self):\n",
        "        out = Value(1./(1+exp(-self.data)), _children=(self,), _op='sigmoid')\n",
        "        def _backward():\n",
        "            self.grad += out.grad * out.data * (1 - out.data)\n",
        "        out._backward = _backward\n",
        "        return out\n",
        "\n",
        "    def logloss(self, y):\n",
        "        out = Value(-y.data*log(self.data) - (1-y.data)*log(1-self.data), (self, y), 'logloss')\n",
        "        def _backward():\n",
        "            self.grad += out.grad * (-y.data/self.data + (1-y.data)/(1-self.data))\n",
        "            y.grad += out.grad * (-y.data*log(self.data)+log(1-self.data))\n",
        "        out._backward = _backward\n",
        "        return out\n",
        "\n",
        "    def backward(self):\n",
        "        # set our base case\n",
        "        self.grad = 1\n",
        "        # topological order all of the children in the graph\n",
        "        topo = []\n",
        "        visited = set()\n",
        "        def build_topo(v):\n",
        "            if v not in visited:\n",
        "                visited.add(v)\n",
        "                for child in v._prev:\n",
        "                    build_topo(child)\n",
        "                topo.append(v)\n",
        "        build_topo(self)\n",
        "\n",
        "        # go one variable at a time and apply the chain rule to get its gradient\n",
        "        self.grad = 1\n",
        "        for v in reversed(topo):\n",
        "            v._backward()\n",
        "\n",
        "# we need to do a reverse topological sort so we don't call v._backward() on a\n",
        "# value before the parent node has had v._backwardD() called"
      ],
      "metadata": {
        "id": "GCODYDr7bwqY"
      },
      "execution_count": 25,
      "outputs": []
    },
    {
      "cell_type": "markdown",
      "source": [
        "**Exercise 9 Solution**"
      ],
      "metadata": {
        "id": "B0J9xErxeVGt"
      }
    },
    {
      "cell_type": "code",
      "source": [
        "x = Value(3)\n",
        "y = Value(8)\n",
        "z = Value(2)\n",
        "f = x*y + z*z*x\n",
        "f.backward()\n",
        "draw_dot(f)\n",
        "# see drawing (df_dz should be 2*z*x = 12, df_dx should be y+z^2=12, df_dy should be x=3)"
      ],
      "metadata": {
        "colab": {
          "base_uri": "https://localhost:8080/",
          "height": 248
        },
        "id": "sUi5-cJkdOXh",
        "outputId": "726dbea2-6282-442b-a47c-0ceb6c6ca80a"
      },
      "execution_count": 26,
      "outputs": [
        {
          "output_type": "execute_result",
          "data": {
            "image/svg+xml": "<?xml version=\"1.0\" encoding=\"UTF-8\" standalone=\"no\"?>\n<!DOCTYPE svg PUBLIC \"-//W3C//DTD SVG 1.1//EN\"\n \"http://www.w3.org/Graphics/SVG/1.1/DTD/svg11.dtd\">\n<!-- Generated by graphviz version 2.43.0 (0)\n -->\n<!-- Title: %3 Pages: 1 -->\n<svg width=\"1062pt\" height=\"155pt\"\n viewBox=\"0.00 0.00 1062.00 155.00\" xmlns=\"http://www.w3.org/2000/svg\" xmlns:xlink=\"http://www.w3.org/1999/xlink\">\n<g id=\"graph0\" class=\"graph\" transform=\"scale(1 1) rotate(0) translate(4 151)\">\n<title>%3</title>\n<polygon fill=\"white\" stroke=\"transparent\" points=\"-4,4 -4,-151 1058,-151 1058,4 -4,4\"/>\n<!-- 131935202979328 -->\n<g id=\"node1\" class=\"node\">\n<title>131935202979328</title>\n<polygon fill=\"none\" stroke=\"black\" points=\"885,-54.5 885,-90.5 1054,-90.5 1054,-54.5 885,-54.5\"/>\n<text text-anchor=\"middle\" x=\"928.5\" y=\"-68.8\" font-family=\"Times,serif\" font-size=\"14.00\">data 36.0000</text>\n<polyline fill=\"none\" stroke=\"black\" points=\"972,-54.5 972,-90.5 \"/>\n<text text-anchor=\"middle\" x=\"1013\" y=\"-68.8\" font-family=\"Times,serif\" font-size=\"14.00\">grad 1.0000</text>\n</g>\n<!-- 131935202979328+ -->\n<g id=\"node2\" class=\"node\">\n<title>131935202979328+</title>\n<ellipse fill=\"none\" stroke=\"black\" cx=\"822\" cy=\"-72.5\" rx=\"27\" ry=\"18\"/>\n<text text-anchor=\"middle\" x=\"822\" y=\"-68.8\" font-family=\"Times,serif\" font-size=\"14.00\">+</text>\n</g>\n<!-- 131935202979328+&#45;&gt;131935202979328 -->\n<g id=\"edge1\" class=\"edge\">\n<title>131935202979328+&#45;&gt;131935202979328</title>\n<path fill=\"none\" stroke=\"black\" d=\"M849.01,-72.5C856.58,-72.5 865.31,-72.5 874.54,-72.5\"/>\n<polygon fill=\"black\" stroke=\"black\" points=\"874.72,-76 884.72,-72.5 874.72,-69 874.72,-76\"/>\n</g>\n<!-- 131935202981968 -->\n<g id=\"node3\" class=\"node\">\n<title>131935202981968</title>\n<polygon fill=\"none\" stroke=\"black\" points=\"0,-0.5 0,-36.5 169,-36.5 169,-0.5 0,-0.5\"/>\n<text text-anchor=\"middle\" x=\"40\" y=\"-14.8\" font-family=\"Times,serif\" font-size=\"14.00\">data 2.0000</text>\n<polyline fill=\"none\" stroke=\"black\" points=\"80,-0.5 80,-36.5 \"/>\n<text text-anchor=\"middle\" x=\"124.5\" y=\"-14.8\" font-family=\"Times,serif\" font-size=\"14.00\">grad 12.0000</text>\n</g>\n<!-- 131935202982544+ -->\n<g id=\"node5\" class=\"node\">\n<title>131935202982544+</title>\n<ellipse fill=\"none\" stroke=\"black\" cx=\"232\" cy=\"-18.5\" rx=\"27\" ry=\"18\"/>\n<text text-anchor=\"middle\" x=\"232\" y=\"-14.8\" font-family=\"Times,serif\" font-size=\"14.00\">+</text>\n</g>\n<!-- 131935202981968&#45;&gt;131935202982544+ -->\n<g id=\"edge8\" class=\"edge\">\n<title>131935202981968&#45;&gt;131935202982544+</title>\n<path fill=\"none\" stroke=\"black\" d=\"M169.29,-18.5C178.15,-18.5 186.79,-18.5 194.66,-18.5\"/>\n<polygon fill=\"black\" stroke=\"black\" points=\"194.87,-22 204.87,-18.5 194.87,-15 194.87,-22\"/>\n</g>\n<!-- 131935202982544 -->\n<g id=\"node4\" class=\"node\">\n<title>131935202982544</title>\n<polygon fill=\"none\" stroke=\"black\" points=\"298.5,-0.5 298.5,-36.5 460.5,-36.5 460.5,-0.5 298.5,-0.5\"/>\n<text text-anchor=\"middle\" x=\"338.5\" y=\"-14.8\" font-family=\"Times,serif\" font-size=\"14.00\">data 4.0000</text>\n<polyline fill=\"none\" stroke=\"black\" points=\"378.5,-0.5 378.5,-36.5 \"/>\n<text text-anchor=\"middle\" x=\"419.5\" y=\"-14.8\" font-family=\"Times,serif\" font-size=\"14.00\">grad 3.0000</text>\n</g>\n<!-- 131935202982784+ -->\n<g id=\"node11\" class=\"node\">\n<title>131935202982784+</title>\n<ellipse fill=\"none\" stroke=\"black\" cx=\"527\" cy=\"-45.5\" rx=\"27\" ry=\"18\"/>\n<text text-anchor=\"middle\" x=\"527\" y=\"-41.8\" font-family=\"Times,serif\" font-size=\"14.00\">+</text>\n</g>\n<!-- 131935202982544&#45;&gt;131935202982784+ -->\n<g id=\"edge7\" class=\"edge\">\n<title>131935202982544&#45;&gt;131935202982784+</title>\n<path fill=\"none\" stroke=\"black\" d=\"M460.91,-33.42C471.42,-35.37 481.71,-37.28 490.89,-38.98\"/>\n<polygon fill=\"black\" stroke=\"black\" points=\"490.27,-42.43 500.74,-40.81 491.55,-35.55 490.27,-42.43\"/>\n</g>\n<!-- 131935202982544+&#45;&gt;131935202982544 -->\n<g id=\"edge2\" class=\"edge\">\n<title>131935202982544+&#45;&gt;131935202982544</title>\n<path fill=\"none\" stroke=\"black\" d=\"M259.01,-18.5C267.56,-18.5 277.6,-18.5 288.17,-18.5\"/>\n<polygon fill=\"black\" stroke=\"black\" points=\"288.43,-22 298.43,-18.5 288.43,-15 288.43,-22\"/>\n</g>\n<!-- 131935202980000 -->\n<g id=\"node6\" class=\"node\">\n<title>131935202980000</title>\n<polygon fill=\"none\" stroke=\"black\" points=\"298.5,-110.5 298.5,-146.5 460.5,-146.5 460.5,-110.5 298.5,-110.5\"/>\n<text text-anchor=\"middle\" x=\"338.5\" y=\"-124.8\" font-family=\"Times,serif\" font-size=\"14.00\">data 8.0000</text>\n<polyline fill=\"none\" stroke=\"black\" points=\"378.5,-110.5 378.5,-146.5 \"/>\n<text text-anchor=\"middle\" x=\"419.5\" y=\"-124.8\" font-family=\"Times,serif\" font-size=\"14.00\">grad 3.0000</text>\n</g>\n<!-- 131935202983696+ -->\n<g id=\"node9\" class=\"node\">\n<title>131935202983696+</title>\n<ellipse fill=\"none\" stroke=\"black\" cx=\"527\" cy=\"-100.5\" rx=\"27\" ry=\"18\"/>\n<text text-anchor=\"middle\" x=\"527\" y=\"-96.8\" font-family=\"Times,serif\" font-size=\"14.00\">+</text>\n</g>\n<!-- 131935202980000&#45;&gt;131935202983696+ -->\n<g id=\"edge9\" class=\"edge\">\n<title>131935202980000&#45;&gt;131935202983696+</title>\n<path fill=\"none\" stroke=\"black\" d=\"M460.91,-113.03C471.42,-111 481.71,-109.02 490.89,-107.26\"/>\n<polygon fill=\"black\" stroke=\"black\" points=\"491.59,-110.69 500.74,-105.36 490.26,-103.81 491.59,-110.69\"/>\n</g>\n<!-- 131935202981584 -->\n<g id=\"node7\" class=\"node\">\n<title>131935202981584</title>\n<polygon fill=\"none\" stroke=\"black\" points=\"295,-55.5 295,-91.5 464,-91.5 464,-55.5 295,-55.5\"/>\n<text text-anchor=\"middle\" x=\"335\" y=\"-69.8\" font-family=\"Times,serif\" font-size=\"14.00\">data 3.0000</text>\n<polyline fill=\"none\" stroke=\"black\" points=\"375,-55.5 375,-91.5 \"/>\n<text text-anchor=\"middle\" x=\"419.5\" y=\"-69.8\" font-family=\"Times,serif\" font-size=\"14.00\">grad 12.0000</text>\n</g>\n<!-- 131935202981584&#45;&gt;131935202983696+ -->\n<g id=\"edge6\" class=\"edge\">\n<title>131935202981584&#45;&gt;131935202983696+</title>\n<path fill=\"none\" stroke=\"black\" d=\"M464.29,-89.05C473.62,-90.78 482.7,-92.47 490.9,-93.99\"/>\n<polygon fill=\"black\" stroke=\"black\" points=\"490.3,-97.43 500.77,-95.82 491.57,-90.55 490.3,-97.43\"/>\n</g>\n<!-- 131935202981584&#45;&gt;131935202982784+ -->\n<g id=\"edge10\" class=\"edge\">\n<title>131935202981584&#45;&gt;131935202982784+</title>\n<path fill=\"none\" stroke=\"black\" d=\"M464.29,-57.37C473.62,-55.58 482.7,-53.83 490.9,-52.25\"/>\n<polygon fill=\"black\" stroke=\"black\" points=\"491.61,-55.68 500.77,-50.36 490.29,-48.81 491.61,-55.68\"/>\n</g>\n<!-- 131935202983696 -->\n<g id=\"node8\" class=\"node\">\n<title>131935202983696</title>\n<polygon fill=\"none\" stroke=\"black\" points=\"590,-82.5 590,-118.5 759,-118.5 759,-82.5 590,-82.5\"/>\n<text text-anchor=\"middle\" x=\"633.5\" y=\"-96.8\" font-family=\"Times,serif\" font-size=\"14.00\">data 24.0000</text>\n<polyline fill=\"none\" stroke=\"black\" points=\"677,-82.5 677,-118.5 \"/>\n<text text-anchor=\"middle\" x=\"718\" y=\"-96.8\" font-family=\"Times,serif\" font-size=\"14.00\">grad 1.0000</text>\n</g>\n<!-- 131935202983696&#45;&gt;131935202979328+ -->\n<g id=\"edge5\" class=\"edge\">\n<title>131935202983696&#45;&gt;131935202979328+</title>\n<path fill=\"none\" stroke=\"black\" d=\"M759.29,-84.37C768.62,-82.58 777.7,-80.83 785.9,-79.25\"/>\n<polygon fill=\"black\" stroke=\"black\" points=\"786.61,-82.68 795.77,-77.36 785.29,-75.81 786.61,-82.68\"/>\n</g>\n<!-- 131935202983696+&#45;&gt;131935202983696 -->\n<g id=\"edge3\" class=\"edge\">\n<title>131935202983696+&#45;&gt;131935202983696</title>\n<path fill=\"none\" stroke=\"black\" d=\"M554.01,-100.5C561.58,-100.5 570.31,-100.5 579.54,-100.5\"/>\n<polygon fill=\"black\" stroke=\"black\" points=\"579.72,-104 589.72,-100.5 579.72,-97 579.72,-104\"/>\n</g>\n<!-- 131935202982784 -->\n<g id=\"node10\" class=\"node\">\n<title>131935202982784</title>\n<polygon fill=\"none\" stroke=\"black\" points=\"590,-27.5 590,-63.5 759,-63.5 759,-27.5 590,-27.5\"/>\n<text text-anchor=\"middle\" x=\"633.5\" y=\"-41.8\" font-family=\"Times,serif\" font-size=\"14.00\">data 12.0000</text>\n<polyline fill=\"none\" stroke=\"black\" points=\"677,-27.5 677,-63.5 \"/>\n<text text-anchor=\"middle\" x=\"718\" y=\"-41.8\" font-family=\"Times,serif\" font-size=\"14.00\">grad 1.0000</text>\n</g>\n<!-- 131935202982784&#45;&gt;131935202979328+ -->\n<g id=\"edge11\" class=\"edge\">\n<title>131935202982784&#45;&gt;131935202979328+</title>\n<path fill=\"none\" stroke=\"black\" d=\"M759.29,-61.05C768.62,-62.78 777.7,-64.47 785.9,-65.99\"/>\n<polygon fill=\"black\" stroke=\"black\" points=\"785.3,-69.43 795.77,-67.82 786.57,-62.55 785.3,-69.43\"/>\n</g>\n<!-- 131935202982784+&#45;&gt;131935202982784 -->\n<g id=\"edge4\" class=\"edge\">\n<title>131935202982784+&#45;&gt;131935202982784</title>\n<path fill=\"none\" stroke=\"black\" d=\"M554.01,-45.5C561.58,-45.5 570.31,-45.5 579.54,-45.5\"/>\n<polygon fill=\"black\" stroke=\"black\" points=\"579.72,-49 589.72,-45.5 579.72,-42 579.72,-49\"/>\n</g>\n</g>\n</svg>\n",
            "text/plain": [
              "<graphviz.graphs.Digraph at 0x77fe8ee82bf0>"
            ]
          },
          "metadata": {},
          "execution_count": 26
        }
      ]
    },
    {
      "cell_type": "markdown",
      "source": [
        "**Exercise 10 Solution**"
      ],
      "metadata": {
        "id": "kJ1fYJgKflbC"
      }
    },
    {
      "cell_type": "code",
      "source": [
        "import gdown\n",
        "from scipy.io import loadmat\n",
        "from sklearn.linear_model import LogisticRegression\n",
        "import pandas as pd\n",
        "import numpy as np\n",
        "import matplotlib.pyplot as plt\n",
        "%matplotlib inline\n",
        "import seaborn as sns\n",
        "\n",
        "# Note: this is starter code\n",
        "gdown.download(id='1kTOn_DDKZANTyb4H9thytr64xzqdm23y', output='titanic_train.csv')\n",
        "titanic_df = pd.read_csv('titanic_train.csv')\n",
        "\n",
        "titanic_df['Age'].fillna(titanic_df['Age'].mean(), inplace=True)\n",
        "titanic_df\n",
        "X = np.vstack((titanic_df['Age'],\n",
        "               titanic_df['Sex'].map(lambda x: 1 if x == 'female'  else 0).T)).astype(np.float64)\n",
        "X = np.vstack((X, np.ones((1, X.shape[1])))).T\n",
        "y = np.asarray(titanic_df['Survived']).astype(np.float64)\n",
        "print(f\"X={X}, y={y}\")"
      ],
      "metadata": {
        "colab": {
          "base_uri": "https://localhost:8080/"
        },
        "id": "DfoYK90VeZUc",
        "outputId": "edb51967-bffb-4dea-9bcd-42ee5def2cd8"
      },
      "execution_count": 27,
      "outputs": [
        {
          "output_type": "stream",
          "name": "stderr",
          "text": [
            "Downloading...\n",
            "From: https://drive.google.com/uc?id=1kTOn_DDKZANTyb4H9thytr64xzqdm23y\n",
            "To: /content/titanic_train.csv\n",
            "100%|██████████| 61.2k/61.2k [00:00<00:00, 66.2MB/s]"
          ]
        },
        {
          "output_type": "stream",
          "name": "stdout",
          "text": [
            "X=[[22.          0.          1.        ]\n",
            " [38.          1.          1.        ]\n",
            " [26.          1.          1.        ]\n",
            " ...\n",
            " [29.69911765  1.          1.        ]\n",
            " [26.          0.          1.        ]\n",
            " [32.          0.          1.        ]], y=[0. 1. 1. 1. 0. 0. 0. 0. 1. 1. 1. 1. 0. 0. 0. 1. 0. 1. 0. 1. 0. 1. 1. 1.\n",
            " 0. 1. 0. 0. 1. 0. 0. 1. 1. 0. 0. 0. 1. 0. 0. 1. 0. 0. 0. 1. 1. 0. 0. 1.\n",
            " 0. 0. 0. 0. 1. 1. 0. 1. 1. 0. 1. 0. 0. 1. 0. 0. 0. 1. 1. 0. 1. 0. 0. 0.\n",
            " 0. 0. 1. 0. 0. 0. 1. 1. 0. 1. 1. 0. 1. 1. 0. 0. 1. 0. 0. 0. 0. 0. 0. 0.\n",
            " 0. 1. 1. 0. 0. 0. 0. 0. 0. 0. 1. 1. 0. 1. 0. 0. 0. 0. 0. 0. 0. 0. 0. 0.\n",
            " 0. 0. 0. 1. 0. 1. 0. 1. 1. 0. 0. 0. 0. 1. 0. 0. 1. 0. 0. 0. 0. 1. 1. 0.\n",
            " 0. 0. 1. 0. 0. 0. 0. 1. 0. 0. 0. 0. 1. 0. 0. 0. 0. 1. 0. 0. 0. 1. 1. 0.\n",
            " 0. 0. 0. 0. 1. 0. 0. 0. 0. 0. 0. 0. 0. 0. 0. 1. 1. 0. 1. 1. 0. 0. 1. 0.\n",
            " 1. 1. 1. 1. 0. 0. 1. 0. 0. 0. 0. 0. 1. 0. 0. 1. 1. 1. 0. 1. 0. 0. 0. 1.\n",
            " 1. 0. 1. 0. 1. 0. 0. 0. 1. 0. 1. 0. 0. 0. 1. 0. 0. 1. 0. 0. 0. 1. 0. 0.\n",
            " 0. 1. 0. 0. 0. 0. 0. 1. 1. 0. 0. 0. 0. 0. 0. 1. 1. 1. 1. 1. 0. 1. 0. 0.\n",
            " 0. 0. 0. 1. 1. 1. 0. 1. 1. 0. 1. 1. 0. 0. 0. 1. 0. 0. 0. 1. 0. 0. 1. 0.\n",
            " 1. 1. 1. 1. 0. 0. 0. 0. 0. 0. 1. 1. 1. 1. 0. 1. 0. 1. 1. 1. 0. 1. 1. 1.\n",
            " 0. 0. 0. 1. 1. 0. 1. 1. 0. 0. 1. 1. 0. 1. 0. 1. 1. 1. 1. 0. 0. 0. 1. 0.\n",
            " 0. 1. 1. 0. 1. 1. 0. 0. 0. 1. 1. 1. 1. 0. 0. 0. 0. 0. 0. 0. 1. 0. 1. 1.\n",
            " 0. 0. 0. 0. 0. 0. 1. 1. 1. 1. 1. 0. 0. 0. 0. 1. 1. 0. 0. 0. 1. 1. 0. 1.\n",
            " 0. 0. 0. 1. 0. 1. 1. 1. 0. 1. 1. 0. 0. 0. 0. 1. 1. 0. 0. 0. 0. 0. 0. 1.\n",
            " 0. 0. 0. 0. 1. 0. 1. 0. 1. 1. 0. 0. 0. 0. 0. 0. 0. 0. 1. 1. 0. 1. 1. 1.\n",
            " 1. 0. 0. 1. 0. 1. 0. 0. 1. 0. 0. 1. 1. 1. 1. 1. 1. 1. 0. 0. 0. 1. 0. 1.\n",
            " 0. 1. 1. 0. 1. 0. 0. 0. 0. 0. 0. 0. 0. 1. 0. 0. 1. 1. 0. 0. 0. 0. 0. 1.\n",
            " 0. 0. 0. 1. 1. 0. 1. 0. 0. 1. 0. 0. 0. 0. 0. 0. 1. 0. 0. 0. 0. 0. 0. 0.\n",
            " 1. 0. 1. 1. 0. 1. 1. 0. 1. 1. 0. 0. 1. 0. 1. 0. 1. 0. 0. 1. 0. 0. 1. 0.\n",
            " 0. 0. 1. 0. 0. 1. 0. 1. 0. 1. 0. 1. 1. 0. 0. 1. 0. 0. 1. 1. 0. 1. 1. 0.\n",
            " 0. 1. 1. 0. 1. 0. 1. 1. 0. 0. 0. 0. 0. 0. 0. 0. 0. 1. 1. 1. 1. 1. 0. 0.\n",
            " 1. 1. 0. 1. 1. 1. 0. 0. 0. 1. 0. 1. 0. 0. 0. 1. 0. 0. 0. 0. 1. 0. 0. 1.\n",
            " 1. 0. 0. 0. 1. 0. 0. 1. 1. 1. 0. 0. 1. 0. 0. 1. 0. 0. 1. 0. 0. 1. 1. 0.\n",
            " 0. 0. 0. 1. 0. 0. 1. 0. 1. 0. 0. 1. 0. 0. 0. 0. 0. 1. 0. 1. 1. 1. 0. 1.\n",
            " 0. 1. 0. 1. 0. 1. 0. 0. 0. 0. 0. 0. 1. 0. 0. 0. 1. 0. 0. 0. 0. 1. 1. 0.\n",
            " 0. 1. 0. 0. 0. 1. 0. 1. 0. 1. 0. 0. 0. 0. 0. 0. 0. 1. 1. 1. 1. 0. 0. 0.\n",
            " 0. 1. 0. 0. 1. 1. 0. 0. 0. 0. 1. 1. 1. 1. 1. 0. 1. 0. 0. 0. 1. 1. 0. 0.\n",
            " 1. 0. 0. 0. 1. 0. 1. 1. 0. 0. 1. 0. 0. 0. 0. 0. 0. 1. 0. 0. 1. 0. 1. 0.\n",
            " 1. 0. 0. 1. 0. 0. 1. 1. 0. 0. 1. 1. 0. 0. 0. 1. 0. 0. 1. 1. 0. 1. 0. 0.\n",
            " 0. 0. 0. 0. 0. 0. 1. 0. 0. 1. 0. 1. 1. 1. 0. 0. 0. 0. 1. 0. 1. 0. 0. 0.\n",
            " 0. 0. 0. 0. 1. 1. 0. 0. 0. 1. 1. 1. 1. 0. 0. 0. 0. 1. 0. 0. 0. 0. 0. 0.\n",
            " 0. 0. 0. 0. 1. 1. 0. 1. 0. 0. 0. 1. 1. 1. 1. 1. 0. 0. 0. 1. 0. 0. 1. 1.\n",
            " 0. 0. 1. 0. 0. 0. 0. 0. 0. 1. 0. 0. 0. 1. 0. 1. 1. 1. 1. 0. 0. 0. 1. 0.\n",
            " 0. 1. 1. 0. 0. 1. 0. 1. 0. 0. 1. 1. 0. 0. 0. 1. 1. 0. 0. 0. 0. 0. 0. 1.\n",
            " 0. 1. 0.]\n"
          ]
        },
        {
          "output_type": "stream",
          "name": "stderr",
          "text": [
            "\n"
          ]
        }
      ]
    },
    {
      "cell_type": "code",
      "source": [
        "# Note: this is starter code\n",
        "from math import sqrt\n",
        "\n",
        "w_1 = Value(0.0)\n",
        "w_2 = Value(0.0)\n",
        "w_3 = Value(0.0)\n",
        "learning_rate = 10**-5\n",
        "n_epochs = 1000\n",
        "\n",
        "for epoch in range(n_epochs):\n",
        "    # reset everything\n",
        "    total_loss = Value(0.0)\n",
        "    w_1.grad = 0.0\n",
        "    w_2.grad = 0.0\n",
        "    w_3.grad = 0.0\n",
        "    for i in range(X.shape[0]):\n",
        "        # STUDENTS WILL FILL OUT THIS PART (between the two comments)\n",
        "        s = w_1*Value(X[i,0]) + w_2*Value(X[i,1]) + w_3*Value(X[i,2])\n",
        "        p = s.sigmoid()\n",
        "        loss = p.logloss(Value(y[i]))\n",
        "        total_loss = total_loss + loss\n",
        "        # END STUDENT PART TO FILL OUT\n",
        "    total_loss.backward()\n",
        "    w_1.data -= w_1.grad*learning_rate\n",
        "    w_2.data -= w_2.grad*learning_rate\n",
        "    w_3.data -= w_3.grad*learning_rate\n",
        "    if epoch % 10 == 0:\n",
        "        print(f\"{epoch}: total_loss {total_loss.data} w_1.data {w_1.data} w_2.data {w_2.data} w_3.data {w_3.data}\")"
      ],
      "metadata": {
        "colab": {
          "base_uri": "https://localhost:8080/"
        },
        "id": "2grR4Rjnfjns",
        "outputId": "7499dfe7-994f-4eda-b7f6-fdca094afbb0"
      },
      "execution_count": 28,
      "outputs": [
        {
          "output_type": "stream",
          "name": "stdout",
          "text": [
            "0: total_loss 617.5941378789041 w_1.data -0.034669327941176546 w_2.data 0.00076 w_3.data -0.0010350000000000001\n",
            "10: total_loss 621.4097791205244 w_1.data -0.03661813249818156 w_2.data 0.011724682624826729 w_3.data -0.0013377308392006726\n",
            "20: total_loss 620.5193223661197 w_1.data -0.03681732818934925 w_2.data 0.02265800627449427 w_3.data -0.0015888158824261252\n",
            "30: total_loss 619.2099709582864 w_1.data -0.036863413968288156 w_2.data 0.03353801937396693 w_3.data -0.0018500629074001632\n",
            "40: total_loss 617.8773139826802 w_1.data -0.036895699923276036 w_2.data 0.04436301212055263 w_3.data -0.002126712526807702\n",
            "50: total_loss 616.5499288318774 w_1.data -0.03692426440162527 w_2.data 0.055133050806527174 w_3.data -0.002419075415188718\n",
            "60: total_loss 615.2298187047622 w_1.data -0.036949849277149345 w_2.data 0.06584833084981724 w_3.data -0.002727105440886002\n",
            "70: total_loss 613.9170711413482 w_1.data -0.03697252124405225 w_2.data 0.07650905657428761 w_3.data -0.003050730095691982\n",
            "80: total_loss 612.6116331863682 w_1.data -0.03699229686056211 w_2.data 0.08711543242569085 w_3.data -0.003389874395121106\n",
            "90: total_loss 611.3134413499572 w_1.data -0.03700918842785453 w_2.data 0.09766766231611743 w_3.data -0.003744462651208165\n",
            "100: total_loss 610.0224313293363 w_1.data -0.037023207419006034 w_2.data 0.10816594957170604 w_3.data -0.004114418620385223\n",
            "110: total_loss 608.7385387770212 w_1.data -0.03703436473717692 w_2.data 0.11861049692618486 w_3.data -0.004499665529553992\n",
            "120: total_loss 607.46169938853 w_1.data -0.037042670731694566 w_2.data 0.1290015065181812 w_3.data -0.0049001260926234014\n",
            "130: total_loss 606.1918489365993 w_1.data -0.03704813519461431 w_2.data 0.13933917988906824 w_3.data -0.005315722526054556\n",
            "140: total_loss 604.9289233003622 w_1.data -0.03705076735500752 w_2.data 0.14962371798109916 w_3.data -0.00574637656407046\n",
            "150: total_loss 603.6728584933808 w_1.data -0.037050575872312926 w_2.data 0.15985532113581272 w_3.data -0.006192009473576348\n",
            "160: total_loss 602.4235906908548 w_1.data -0.03704756882884434 w_2.data 0.17003418909271314 w_3.data -0.006652542068788491\n",
            "170: total_loss 601.181056256126 w_1.data -0.03704175372144372 w_2.data 0.18016052098822816 w_3.data -0.007127894725565771\n",
            "180: total_loss 599.9451917664693 w_1.data -0.0370331374522408 w_2.data 0.19023451535495006 w_3.data -0.007617987395437256\n",
            "190: total_loss 598.7159340382896 w_1.data -0.03702172631850366 w_2.data 0.2002563701211644 w_3.data -0.008122739619320118\n",
            "200: total_loss 597.4932201517242 w_1.data -0.037007526001533876 w_2.data 0.2102262826106707 w_3.data -0.008642070540921412\n",
            "210: total_loss 596.2769874747366 w_1.data -0.03699054155457572 w_2.data 0.22014444954290077 w_3.data -0.00917589891981737\n",
            "220: total_loss 595.0671736867599 w_1.data -0.036970777389694294 w_2.data 0.2300110670333397 w_3.data -0.009724143144203915\n",
            "230: total_loss 593.8637168019347 w_1.data -0.036948237263583275 w_2.data 0.23982633059425568 w_3.data -0.010286721243311843\n",
            "240: total_loss 592.6665551920341 w_1.data -0.03692292426224511 w_2.data 0.24959043513574436 w_3.data -0.010863550899479657\n",
            "250: total_loss 591.4756276091399 w_1.data -0.03689484078449818 w_2.data 0.25930357496709494 w_3.data -0.011454549459877152\n",
            "260: total_loss 590.2908732081102 w_1.data -0.036863988524243364 w_2.data 0.2689659437984849 w_3.data -0.012059633947871934\n",
            "270: total_loss 589.112231568999 w_1.data -0.03683036845144109 w_2.data 0.27857773474301223 w_3.data -0.012678721074031486\n",
            "280: total_loss 587.9396427194199 w_1.data -0.03679398079171204 w_2.data 0.2881391403190735 w_3.data -0.01331172724675161\n",
            "290: total_loss 586.773047157031 w_1.data -0.03675482500450454 w_2.data 0.2976503524530973 w_3.data -0.013958568582502742\n",
            "300: total_loss 585.612385872202 w_1.data -0.036712899759736226 w_2.data 0.307111562482645 w_3.data -0.014619160915683995\n",
            "310: total_loss 584.4576003709734 w_1.data -0.036668202912836005 w_2.data 0.3165229611598895 w_3.data -0.015293419808074568\n",
            "320: total_loss 583.3086326984403 w_1.data -0.03662073147807745 w_2.data 0.32588473865548756 w_3.data -0.015981260557870622\n",
            "330: total_loss 582.1654254627102 w_1.data -0.03657048160011821 w_2.data 0.3351970845628578 w_3.data -0.01668259820829549\n",
            "340: total_loss 581.0279218595426 w_1.data -0.03651744852362751 w_2.data 0.3444601879028837 w_3.data -0.017397347555768893\n",
            "350: total_loss 579.896065697871 w_1.data -0.0364616265608898 w_2.data 0.35367423712905866 w_3.data -0.018125423157620425\n",
            "360: total_loss 578.769801426342 w_1.data -0.036403009057259475 w_2.data 0.36283942013309495 w_3.data -0.018866739339330453\n",
            "370: total_loss 577.6490741611294 w_1.data -0.03634158835432711 w_2.data 0.3719559242510187 w_3.data -0.019621210201279746\n",
            "380: total_loss 576.5338297151615 w_1.data -0.03627735575066088 w_2.data 0.38102393626977793 w_3.data -0.020388749624988038\n",
            "390: total_loss 575.4240146290792 w_1.data -0.036210301459960154 w_2.data 0.39004364243439216 w_3.data -0.021169271278818517\n",
            "400: total_loss 574.3195762041591 w_1.data -0.03614041456645893 w_2.data 0.39901522845567633 w_3.data -0.021962688623123533\n",
            "410: total_loss 573.2204625374698 w_1.data -0.03606768297739765 w_2.data 0.4079388795185752 w_3.data -0.022768914914803626\n",
            "420: total_loss 572.1266225596813 w_1.data -0.03599209337238245 w_2.data 0.41681478029115004 w_3.data -0.02358786321124973\n",
            "430: total_loss 571.0380060758499 w_1.data -0.03591363114941176 w_2.data 0.42564311493426193 w_3.data -0.02441944637363342\n",
            "440: total_loss 569.9545638095842 w_1.data -0.03583228036736917 w_2.data 0.4344240671120042 w_3.data -0.02526357706950814\n",
            "450: total_loss 568.8762474511399 w_1.data -0.0357480236847426 w_2.data 0.44315782000294124 w_3.data -0.026120167774678474\n",
            "460: total_loss 567.8030097099312 w_1.data -0.035660842294326756 w_2.data 0.45184455631221854 w_3.data -0.026989130774290538\n",
            "470: total_loss 566.7348043720896 w_1.data -0.035570715853651895 w_2.data 0.4604844582846164 w_3.data -0.027870378163090993\n",
            "480: total_loss 565.6715863637686 w_1.data -0.03547762241086225 w_2.data 0.46907770771863017 w_3.data -0.028763821844795662\n",
            "490: total_loss 564.613311820961 w_1.data -0.03538153832575898 w_2.data 0.4776244859816677 w_3.data -0.029669373530502384\n",
            "500: total_loss 563.5599381667708 w_1.data -0.03528243818570863 w_2.data 0.48612497402646926 w_3.data -0.03058694473607483\n",
            "510: total_loss 562.5114241970948 w_1.data -0.03518029471610378 w_2.data 0.4945793524088665 w_3.data -0.03151644677841499\n",
            "520: total_loss 561.4677301759525 w_1.data -0.035075078685061344 w_2.data 0.5029878013070127 w_3.data -0.03245779077053289\n",
            "530: total_loss 560.4288179417299 w_1.data -0.03496675880202872 w_2.data 0.5113505005422335 w_3.data -0.033410887615310345\n",
            "540: total_loss 559.3946510258988 w_1.data -0.03485530160997351 w_2.data 0.5196676296016688 w_3.data -0.03437564799784336\n",
            "550: total_loss 558.3651947859621 w_1.data -0.03474067137084039 w_2.data 0.5279393676628927 w_3.data -0.035351982376233965\n",
            "560: total_loss 557.3404165546266 w_1.data -0.0346228299439657 w_2.data 0.5361658936207372 w_3.data -0.036339800970686044\n",
            "570: total_loss 556.3202858074802 w_1.data -0.034501736657167936 w_2.data 0.544347386116556 w_3.data -0.03733901375074136\n",
            "580: total_loss 555.304774351919 w_1.data -0.03437734817027714 w_2.data 0.5524840235702163 w_3.data -0.03834953042047253\n",
            "590: total_loss 554.2938565403018 w_1.data -0.03424961833091836 w_2.data 0.5605759842151331 w_3.data -0.03937126040142607\n",
            "600: total_loss 553.287509510943 w_1.data -0.034118498022450566 w_2.data 0.5686234461367108 w_3.data -0.040404112813082434\n",
            "610: total_loss 552.285713461037 w_1.data -0.033983935004083476 w_2.data 0.5766265873146057 w_3.data -0.04144799645057105\n",
            "620: total_loss 551.2884519562454 w_1.data -0.03384587374333675 w_2.data 0.5845855856692836 w_3.data -0.042502819759344446\n",
            "630: total_loss 550.2957122825052 w_1.data -0.03370425524123698 w_2.data 0.5925006191134113 w_3.data -0.04356849080647839\n",
            "640: total_loss 549.3074858464072 w_1.data -0.0335590168509035 w_2.data 0.6003718656087016 w_3.data -0.044644917248222095\n",
            "650: total_loss 548.323768631652 w_1.data -0.03341009209055315 w_2.data 0.6081995032289234 w_3.data -0.0457320062933745\n",
            "660: total_loss 547.3445617201456 w_1.data -0.03325741045241329 w_2.data 0.6159837102298876 w_3.data -0.04682966466200877\n",
            "670: total_loss 546.369871887863 w_1.data -0.033100897209654714 w_2.data 0.6237246651273451 w_3.data -0.04793779853900636\n",
            "680: total_loss 545.3997122871605 w_1.data -0.03294047322424062 w_2.data 0.6314225467838686 w_3.data -0.04905631352179409\n",
            "690: total_loss 544.4341032291227 w_1.data -0.03277605475959455 w_2.data 0.6390775345059533 w_3.data -0.05018511456160158\n",
            "700: total_loss 543.4730730817979 w_1.data -0.03260755330330005 w_2.data 0.6466898081527576 w_3.data -0.05132410589747278\n",
            "710: total_loss 542.5166593026836 w_1.data -0.03243487540669365 w_2.data 0.6542595482581139 w_3.data -0.05247319098217243\n",
            "720: total_loss 541.5649096268174 w_1.data -0.032257922550326036 w_2.data 0.6617869361676925 w_3.data -0.053632272399027514\n",
            "730: total_loss 540.6178834350625 w_1.data -0.032076591046957176 w_2.data 0.6692721541934747 w_3.data -0.05480125176863507\n",
            "740: total_loss 539.6756533311585 w_1.data -0.03189077199714618 w_2.data 0.6767153857880229 w_3.data -0.055980029644252145\n",
            "750: total_loss 538.7383069600728 w_1.data -0.031700351316820585 w_2.data 0.6841168157413913 w_3.data -0.057168505394565215\n",
            "760: total_loss 537.8059491050715 w_1.data -0.03150520986162633 w_2.data 0.6914766304039404 w_3.data -0.05836657707241658\n",
            "770: total_loss 536.8787041056966 w_1.data -0.03130522367970908 w_2.data 0.6987950179387772 w_3.data -0.05957414126795258\n",
            "780: total_loss 535.956718644033 w_1.data -0.031100264433126454 w_2.data 0.7060721686080497 w_3.data -0.06079109294456192\n",
            "790: total_loss 535.0401649515202 w_1.data -0.03089020003876557 w_2.data 0.7133082750978833 w_3.data -0.06201732525590315\n",
            "800: total_loss 534.1292444929983 w_1.data -0.03067489559285697 w_2.data 0.7205035328873239 w_3.data -0.06325272934230136\n",
            "810: total_loss 533.2241921874412 w_1.data -0.030454214659446234 w_2.data 0.7276581406672593 w_3.data -0.06449719410484782\n",
            "820: total_loss 532.325281225406 w_1.data -0.030228021022992088 w_2.data 0.7347723008158631 w_3.data -0.06575060595570109\n",
            "830: total_loss 531.4328285392169 w_1.data -0.02999618102911611 w_2.data 0.741846219937619 w_3.data -0.0670128485434109\n",
            "840: total_loss 530.5472009716582 w_1.data -0.029758566665761602 w_2.data 0.7488801094733368 w_3.data -0.06828380245262818\n",
            "850: total_loss 529.668822168372 w_1.data -0.029515059569724535 w_2.data 0.7558741863886691 w_3.data -0.06956334487840732\n",
            "860: total_loss 528.7981801843756 w_1.data -0.029265556180256565 w_2.data 0.7628286739483062 w_3.data -0.07085134927654622\n",
            "870: total_loss 527.9358357395972 w_1.data -0.029009974300838015 w_2.data 0.7697438025820476 w_3.data -0.07214768499316293\n",
            "880: total_loss 527.0824309745689 w_1.data -0.02874826136949705 w_2.data 0.776619810847011 w_3.data -0.07345221687910469\n",
            "890: total_loss 526.2386984364362 w_1.data -0.028480404772197453 w_2.data 0.7834569464869806 w_3.data -0.0747648048979602\n",
            "900: total_loss 525.4054698565177 w_1.data -0.02820644455456418 w_2.data 0.7902554675847874 w_3.data -0.07608530374051274\n",
            "910: total_loss 524.5836840541176 w_1.data -0.027926488881871204 w_2.data 0.7970156437961313 w_3.data -0.0774135624634884\n",
            "920: total_loss 523.7743930098616 w_1.data -0.027640732547315673 w_2.data 0.8037377576427349 w_3.data -0.07874942417636738\n",
            "930: total_loss 522.9787647962015 w_1.data -0.02734947870883338 w_2.data 0.8104221058286035 w_3.data -0.08009272580657702\n",
            "940: total_loss 522.1980816483025 w_1.data -0.027053163812846108 w_2.data 0.8170690005250466 w_3.data -0.08144329798001212\n",
            "950: total_loss 521.4337310461156 w_1.data -0.02675238530211013 w_2.data 0.8236787705480524 w_3.data -0.08280096505953241\n",
            "960: total_loss 520.6871873361973 w_1.data -0.026447931167611384 w_2.data 0.830251762326441 w_3.data -0.08416554538733338\n",
            "970: total_loss 519.9599812771314 w_1.data -0.026140809666634242 w_2.data 0.8367883405331062 w_3.data -0.08553685177577444\n",
            "980: total_loss 519.2536551258725 w_1.data -0.025832276596992367 w_2.data 0.843288888228434 w_3.data -0.08691469228285283\n",
            "990: total_loss 518.5697017139604 w_1.data -0.025523856454541347 w_2.data 0.8497538063506441 w_3.data -0.08829887129053023\n"
          ]
        }
      ]
    },
    {
      "cell_type": "code",
      "source": [
        "import torch\n",
        "import time\n",
        "\n",
        "n_epochs = 1000\n",
        "\n",
        "device = torch.device(\"cuda\" if torch.cuda.is_available() else \"cpu\")\n",
        "torch.set_default_device(device)\n",
        "\n",
        "X_torch = torch.from_numpy(np.array(X,dtype=np.float32)).to(device)\n",
        "y_torch = torch.from_numpy(np.array(y,dtype=np.float32)).to(device)\n",
        "W = torch.tensor(np.array([0.0, 0.0, 0.0]).astype(np.float32), requires_grad=True)\n",
        "learning_rate = 10**-5\n",
        "for i in range(n_epochs):\n",
        "    start = time.time()\n",
        "    outputs = torch.sigmoid(torch.matmul(X_torch, W))\n",
        "\n",
        "    loss = -torch.dot(y_torch, torch.log(outputs))-torch.dot(1-y_torch, torch.log(1-outputs))\n",
        "    accuracy = ((outputs > 0.5) == y_torch).sum()\n",
        "    if i % 100 == 0:\n",
        "        print(accuracy, loss)\n",
        "    loss.backward()\n",
        "\n",
        "    with torch.no_grad():\n",
        "        W -= learning_rate * W.grad\n",
        "\n",
        "        # Manually zero the gradients after updating weights\n",
        "        W.grad = None\n",
        "\n",
        "print(W.detach().cpu().numpy())"
      ],
      "metadata": {
        "colab": {
          "base_uri": "https://localhost:8080/"
        },
        "id": "bV7eO3Ezpdhw",
        "outputId": "94200d9e-f349-46a4-8807-b29cb2df4ffa"
      },
      "execution_count": 29,
      "outputs": [
        {
          "output_type": "stream",
          "name": "stdout",
          "text": [
            "tensor(549, device='cuda:0') tensor(617.5941, device='cuda:0', grad_fn=<SubBackward0>)\n",
            "tensor(423, device='cuda:0') tensor(610.0224, device='cuda:0', grad_fn=<SubBackward0>)\n",
            "tensor(701, device='cuda:0') tensor(597.4932, device='cuda:0', grad_fn=<SubBackward0>)\n",
            "tensor(701, device='cuda:0') tensor(585.6124, device='cuda:0', grad_fn=<SubBackward0>)\n",
            "tensor(701, device='cuda:0') tensor(574.3196, device='cuda:0', grad_fn=<SubBackward0>)\n",
            "tensor(701, device='cuda:0') tensor(563.5599, device='cuda:0', grad_fn=<SubBackward0>)\n",
            "tensor(701, device='cuda:0') tensor(553.2875, device='cuda:0', grad_fn=<SubBackward0>)\n",
            "tensor(698, device='cuda:0') tensor(543.4730, device='cuda:0', grad_fn=<SubBackward0>)\n",
            "tensor(690, device='cuda:0') tensor(534.1292, device='cuda:0', grad_fn=<SubBackward0>)\n",
            "tensor(679, device='cuda:0') tensor(525.4055, device='cuda:0', grad_fn=<SubBackward0>)\n",
            "[-0.01812148  0.85562056 -0.08934196]\n"
          ]
        }
      ]
    },
    {
      "cell_type": "code",
      "source": [],
      "metadata": {
        "id": "Zm_2K39uvuz6"
      },
      "execution_count": 29,
      "outputs": []
    }
  ]
}