{
  "nbformat": 4,
  "nbformat_minor": 0,
  "metadata": {
    "colab": {
      "provenance": [],
      "machine_shape": "hm",
      "gpuType": "L4",
      "authorship_tag": "ABX9TyP5BAvYiZLFbgHwJxXgE6SL",
      "include_colab_link": true
    },
    "kernelspec": {
      "name": "python3",
      "display_name": "Python 3"
    },
    "language_info": {
      "name": "python"
    },
    "accelerator": "GPU"
  },
  "cells": [
    {
      "cell_type": "markdown",
      "metadata": {
        "id": "view-in-github",
        "colab_type": "text"
      },
      "source": [
        "<a href=\"https://colab.research.google.com/github/olinml2024/notebooks/blob/main/ML24_assignment14_optional.ipynb\" target=\"_parent\"><img src=\"https://colab.research.google.com/assets/colab-badge.svg\" alt=\"Open In Colab\"/></a>"
      ]
    },
    {
      "cell_type": "markdown",
      "source": [
        "# Ablation Experiments Starter Notebook\n",
        "\n",
        "If you want to run these experiments on your own, here is a jumpstart."
      ],
      "metadata": {
        "id": "7-bLtrXx5SKk"
      }
    },
    {
      "cell_type": "code",
      "source": [
        "!git clone https://github.com/olinml2024/nanoGPT.git\n",
        "%cd /content/nanoGPT"
      ],
      "metadata": {
        "id": "z_binbLf5TeM"
      },
      "execution_count": null,
      "outputs": []
    },
    {
      "cell_type": "markdown",
      "source": [
        "Prepare the data"
      ],
      "metadata": {
        "id": "ZL-6GUn75TFE"
      }
    },
    {
      "cell_type": "code",
      "execution_count": null,
      "metadata": {
        "id": "X2_oXJ1QDyME"
      },
      "outputs": [],
      "source": [
        "!python data/shakespeare_char/prepare.py"
      ]
    },
    {
      "cell_type": "markdown",
      "source": [
        "Next, you woud modify ``model.py`` how you like (e.g., to ablate the skip connections).  Once you finish editing the file (don't forget to click save), you can run your experiment.\n",
        "\n",
        "Note: you will want to use either L4 or A100 runtime to make this fast."
      ],
      "metadata": {
        "id": "mDgXdQCC5x2f"
      }
    },
    {
      "cell_type": "code",
      "source": [
        "!python train.py config/train_shakespeare_char.py --compile=False"
      ],
      "metadata": {
        "id": "tbZn6_C25l7E"
      },
      "execution_count": null,
      "outputs": []
    },
    {
      "cell_type": "markdown",
      "source": [
        "We used some regular expressions to parse the output from this script (see the main notebook from this assignment for that code)."
      ],
      "metadata": {
        "id": "gM9kKWb36atl"
      }
    }
  ]
}