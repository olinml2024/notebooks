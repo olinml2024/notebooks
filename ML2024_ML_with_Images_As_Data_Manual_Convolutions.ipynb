{
  "nbformat": 4,
  "nbformat_minor": 0,
  "metadata": {
    "colab": {
      "provenance": [],
      "include_colab_link": true
    },
    "kernelspec": {
      "name": "python3",
      "display_name": "Python 3"
    },
    "language_info": {
      "name": "python"
    }
  },
  "cells": [
    {
      "cell_type": "markdown",
      "metadata": {
        "id": "view-in-github",
        "colab_type": "text"
      },
      "source": [
        "<a href=\"https://colab.research.google.com/github/olinml2024/notebooks/blob/main/ML2024_ML_with_Images_As_Data_Manual_Convolutions.ipynb\" target=\"_parent\"><img src=\"https://colab.research.google.com/assets/colab-badge.svg\" alt=\"Open In Colab\"/></a>"
      ]
    },
    {
      "cell_type": "markdown",
      "source": [
        "# Olin ML 2024 - Quality Assessed Deliverable Helper Code\n",
        "\n",
        "You can copy functions and code that you wrote for Assignment 15 directly into this code (we use the same variable names), so hopefully this will be quick.\n"
      ],
      "metadata": {
        "id": "vMpxS_AOLcxX"
      }
    },
    {
      "cell_type": "code",
      "execution_count": null,
      "metadata": {
        "id": "9fYE4ACtTKar",
        "collapsed": true
      },
      "outputs": [],
      "source": [
        "import matplotlib.pyplot as plt\n",
        "import matplotlib.image as mpimg\n",
        "import numpy as np\n",
        "from PIL import Image\n",
        "import requests\n",
        "\n",
        "# Set desired image size (square)\n",
        "cute_imsize = 256\n",
        "\n",
        "# URL of the image to download.\n",
        "image_url = \"https://i1.pickpik.com/photos/1/925/293/adorable-animal-blur-close-up-preview.jpg\"  #\n",
        "# Download the image\n",
        "response = requests.get(image_url)\n",
        "\n",
        "# Check if the request worked\n",
        "if response.status_code == 200:\n",
        "  # Open the image directly from the response content\n",
        "  image_fun = Image.open(requests.get(image_url, stream=True).raw)\n",
        "  print(image_fun.size)  # Prints the dimensions of the image (height, width, channels)\n",
        "  image_fun = image_fun.resize((cute_imsize, cute_imsize))\n",
        "  #plt.imshow(image_orig)\n",
        "  image_fun = np.array(image_fun.convert('L'))\n",
        "  print(image_fun.shape)\n",
        "  plt.imshow(image_fun, cmap='gray')\n",
        "  plt.colorbar()\n",
        "  plt.show()\n",
        "else:\n",
        "  print(f\"Failed to download image. Status code: {response.status_code}\")\n",
        "\n",
        "\n",
        "# Make other images for assessment\n",
        "imsize = 20\n",
        "stripe_height = 10  # Adjust for stripe width\n",
        "# Create an empty numpy array for the image\n",
        "image_horizontal = np.zeros((imsize, imsize), dtype=np.uint8)\n",
        "# Set alternating horizonal stripes\n",
        "for y in range(imsize):\n",
        "    image_horizontal[y, :] = 255 if (y // stripe_height) % 2 == 0 else 0\n",
        "plt.imshow(image_horizontal, cmap='gray')\n",
        "plt.colorbar()\n",
        "plt.show()\n",
        "\n",
        "# Make a vertical stripe image\n",
        "image_vertical = np.zeros((imsize, imsize), dtype=np.uint8)\n",
        "for y in range(imsize):\n",
        "    image_vertical[:, y] = 0 if (y // stripe_height) % 2 == 0 else 255\n",
        "plt.imshow(image_vertical, cmap='gray')\n",
        "plt.colorbar()\n",
        "plt.show()\n",
        "plt.rcParams[\"figure.figsize\"] = (4,4)\n",
        "\n",
        "\n",
        "stripe_height = 2  # Adjust for stripe width\n",
        "image_vertical2 = np.zeros((imsize, imsize), dtype=np.uint8)\n",
        "for y in range(imsize):\n",
        "    image_vertical2[:, y] = 255 if (y // stripe_height) % 2 == 0 else 0\n",
        "plt.imshow(image_vertical2, cmap='gray')\n",
        "plt.colorbar()\n",
        "plt.show()\n",
        "plt.rcParams[\"figure.figsize\"] = (4,4)\n",
        "\n",
        "stripe_height = 2  # Adjust for stripe width\n",
        "image_verticalg = np.zeros((imsize, imsize), dtype=np.uint8)\n",
        "for y in range(imsize):\n",
        "    image_verticalg[:, y] = 128 if (y // stripe_height) % 2 == 0 else 127\n",
        "plt.imshow(image_verticalg, cmap='gray')\n",
        "plt.colorbar()\n",
        "plt.show()\n",
        "plt.rcParams[\"figure.figsize\"] = (4,4)\n",
        "\n",
        "stripe_height = 5  # Adjust for stripe width\n",
        "image_vertical5 = np.zeros((imsize, imsize), dtype=np.uint8)\n",
        "for y in range(imsize):\n",
        "    image_vertical5[:, y] = 255 if (y // stripe_height) % 2 == 0 else 0\n",
        "plt.imshow(image_vertical5, cmap='gray')\n",
        "plt.colorbar()\n",
        "plt.show()\n",
        "plt.rcParams[\"figure.figsize\"] = (4,4)"
      ]
    },
    {
      "cell_type": "markdown",
      "source": [
        "# Create filter\n",
        "Write code for a 5x5 filter that will result in vertical edges showing up as:\n",
        "* positive values if the the edge is darker on the right and lighter on the left, and as\n",
        "* negative values if the edge is darker on the left and lighter on the right.\n",
        "\n",
        "Apply no padding and use a stride of 1.\n",
        "\n",
        "You should be able to copy your apply filter code from Assignment 15 directly into this and then just add the filter.\n",
        "\n",
        "\n",
        "Please note that if you were getting a swirly looking penguin in Assignment 15, this was likely due to an issue with the datatype when you created the image. To solve this, you can either start with:\n",
        "image_filtered= np.zeros((output_size,output_size))\n",
        "or\n",
        "image_filtered = np.zeros_like(image, dtype = np.float32). (but note that this method will give you the wrong size for this exercise.)\n",
        "If you're still getting something like this, please reach out to us.\n",
        "\n"
      ],
      "metadata": {
        "id": "mw9fNnr3-gzB"
      }
    },
    {
      "cell_type": "code",
      "source": [
        "filter_vertical_edge = np.array([\n",
        "    [],\n",
        "])\n",
        "\n",
        "# Confirm the size and show the filter\n",
        "filter_size = filter_vertical_edge.shape[0]\n",
        "print(filter_size)\n",
        "plt.imshow(filter_vertical_edge, cmap='gray')\n",
        "plt.colorbar()\n",
        "plt.show()"
      ],
      "metadata": {
        "id": "6Z9PluTzXwJA"
      },
      "execution_count": null,
      "outputs": []
    },
    {
      "cell_type": "markdown",
      "source": [
        "# Filter function\n",
        "Replace with your apply_filter function"
      ],
      "metadata": {
        "id": "AJcb0KhXDiVU"
      }
    },
    {
      "cell_type": "code",
      "source": [
        "def apply_filter(image, filter):\n",
        "  # Write code here!\n",
        "\n",
        "  return image_filtered"
      ],
      "metadata": {
        "id": "tUt0qBEXbJlW"
      },
      "execution_count": null,
      "outputs": []
    },
    {
      "cell_type": "markdown",
      "source": [
        "Check that your filter works on an image."
      ],
      "metadata": {
        "id": "bFOyI41XBIKU"
      }
    },
    {
      "cell_type": "code",
      "source": [
        "image_filtered = apply_filter(image_fun, filter_vertical_edge)\n",
        "plt.imshow(image_filtered, cmap='gray')\n",
        "plt.colorbar()\n",
        "plt.show()\n"
      ],
      "metadata": {
        "id": "rntv5n6hBRin"
      },
      "execution_count": null,
      "outputs": []
    },
    {
      "cell_type": "markdown",
      "source": [
        "# Create and save final plot for submission\n",
        "This code will create the final plot for submission and save it.\n",
        "Please download the file from Colab and upload it to Canvas as part of your submission, keeping the same file name.\n",
        "\n",
        "DO NOT CHANGE THIS CODE. If something is broken, let us know."
      ],
      "metadata": {
        "id": "WLWYvjHeBomz"
      }
    },
    {
      "cell_type": "code",
      "source": [
        "image_dict = {\"Horizontal Image\":image_horizontal, \"Vertical 2\":image_vertical2,\"Vertical G\":image_verticalg,\"Vertical 5\":image_vertical5,\"Vertical Big\":image_vertical, \"Cute\":image_fun}\n",
        "\n",
        "fig, axs = plt.subplots(len(image_dict) + 1, 2, figsize=(8, 11))\n",
        "axs[0, 0].axis('off')\n",
        "\n",
        "# Display the filter and add colorbarf\n",
        "img = axs[0, 1].imshow(filter_vertical_edge, cmap='gray')\n",
        "axs[0, 1].axis('off')  # Hide axis ticks\n",
        "axs[0, 1].set_title(f\"Filter Size: {filter_vertical_edge.shape[0]}x{filter_vertical_edge.shape[1]}\")\n",
        "plt.colorbar(img, ax=axs[0, 1], orientation='vertical')\n",
        "\n",
        "\n",
        "for image_name, image in image_dict.items():\n",
        "  image_index = 1+ list(image_dict.keys()).index(image_name)\n",
        "  orig_image = axs[image_index,0].imshow(image, cmap='gray', vmin=0, vmax=256)\n",
        "  axs[image_index,0].set_title(f\"{image_name} :{image.shape[0]}x{image.shape[1]}\")\n",
        "  axs[image_index,0].axis('off')  # Hide axis ticks\n",
        "  plt.colorbar(orig_image, ax=axs[image_index,0], orientation='vertical')\n",
        "\n",
        "  # Pad and filter the image\n",
        "  #image_pad = pad_image(image, padding_size)\n",
        "  #image_filtered = apply_filter(image_pad, filter_vertical_edge)\n",
        "  image_filtered = apply_filter(image, filter_vertical_edge)\n",
        "\n",
        "  # Display the filtered image and add colorbar\n",
        "  img_filtered = axs[image_index,1].imshow(image_filtered, cmap='gray')\n",
        "  axs[image_index,1].axis('off')  # Hide axis ticks\n",
        "  axs[image_index,1].set_title(f\"{image_name}: {image_filtered.shape[0]}x{image_filtered.shape[1]}\")\n",
        "  plt.colorbar(img_filtered, ax=axs[image_index,1], orientation='vertical')\n",
        "\n",
        "plt.tight_layout()\n",
        "plt.show()\n"
      ],
      "metadata": {
        "id": "BVLofn5YW1PS"
      },
      "execution_count": null,
      "outputs": []
    },
    {
      "cell_type": "markdown",
      "source": [
        "When you are ready, save the plot"
      ],
      "metadata": {
        "id": "ljxlcOM2wt-h"
      }
    },
    {
      "cell_type": "code",
      "source": [
        "from datetime import datetime\n",
        "import getpass\n",
        "username = getpass.getuser()\n",
        "timestamp = datetime.now().strftime(\"%Y%m%d_%H%M%S\")\n",
        "filename = f\"{username}_{timestamp}.jpg\"\n",
        "# Save the figure as a JPG\n",
        "plt.switch_backend('Agg')\n",
        "fig.canvas.draw()\n",
        "fig.savefig(filename, format=\"jpg\", bbox_inches=\"tight\")"
      ],
      "metadata": {
        "id": "G5lVI0zUwlP7"
      },
      "execution_count": null,
      "outputs": []
    },
    {
      "cell_type": "markdown",
      "source": [
        "\n",
        "Make sure to download the file (starts with \"root\") and upload it to Canvas.\n"
      ],
      "metadata": {
        "id": "sGSTNfC9MmOt"
      }
    }
  ]
}