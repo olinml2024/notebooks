{
  "nbformat": 4,
  "nbformat_minor": 0,
  "metadata": {
    "colab": {
      "provenance": [],
      "collapsed_sections": [
        "CoXDlTaD43zh",
        "fNMlvQGo7yNy",
        "db_34iuz_tk5"
      ],
      "gpuType": "T4",
      "authorship_tag": "ABX9TyPisJy+tSY4hrja7VUgX5vs",
      "include_colab_link": true
    },
    "kernelspec": {
      "name": "python3",
      "display_name": "Python 3"
    },
    "language_info": {
      "name": "python"
    },
    "accelerator": "GPU"
  },
  "cells": [
    {
      "cell_type": "markdown",
      "metadata": {
        "id": "view-in-github",
        "colab_type": "text"
      },
      "source": [
        "<a href=\"https://colab.research.google.com/github/olinml2024/notebooks/blob/main/ML24_Assignment10.ipynb\" target=\"_parent\"><img src=\"https://colab.research.google.com/assets/colab-badge.svg\" alt=\"Open In Colab\"/></a>"
      ]
    },
    {
      "cell_type": "markdown",
      "source": [
        "# Sentiment Analysis of Movie Reviews\n",
        "\n",
        "In this notebook, you'll be working with the [Stanford Large Movie Review Dataset](https://ai.stanford.edu/~amaas/data/sentiment/).\n",
        "\n",
        "Here is the most important information from the README file.  Note that there is more information in the README (e.g., on how the files in the dataset are laid out), but this won't be particularly important to us.\n",
        "\n",
        "# Large Movie Review Dataset v1.0\n",
        "\n",
        "## Overview\n",
        "\n",
        "This dataset contains movie reviews along with their associated binary\n",
        "sentiment polarity labels. It is intended to serve as a benchmark for\n",
        "sentiment classification. This document outlines how the dataset was\n",
        "gathered, and how to use the files provided.\n",
        "\n",
        "## Dataset\n",
        "\n",
        "The core dataset contains 50,000 reviews split evenly into 25k train and 25k test sets. The overall distribution of labels is balanced (25k pos and 25k neg). We also include an additional 50,000 unlabeled documents for unsupervised learning.\n",
        "\n",
        "In the entire collection, no more than 30 reviews are allowed for any given movie because reviews for the same movie tend to have correlated ratings. Further, the train and test sets contain a disjoint set of movies, so no significant performance is obtained by memorizing movie-unique terms and their associated with observed labels.  In the labeled train/test sets, a negative review has a score <= 4 out of 10, and a positive review has a score >= 7 out of 10. Thus reviews with more neutral ratings are not included in the train/test sets. In the unsupervised set, reviews of any rating are included and there are an even number of reviews > 5 and <= 5."
      ],
      "metadata": {
        "id": "qYvY8MxH9wW7"
      }
    },
    {
      "cell_type": "markdown",
      "source": [
        "Let's start out by downloading the dataset, extracting it, and parsing it."
      ],
      "metadata": {
        "id": "yeiB0qX02W1L"
      }
    },
    {
      "cell_type": "code",
      "execution_count": 115,
      "metadata": {
        "colab": {
          "base_uri": "https://localhost:8080/"
        },
        "id": "30Xdfb-A8lhl",
        "outputId": "8f2c388a-ce46-4ea4-ad96-f2ba7c5b8958"
      },
      "outputs": [
        {
          "output_type": "stream",
          "name": "stderr",
          "text": [
            "Downloading...\n",
            "From (original): https://drive.google.com/uc?id=1AhSDUrPbRPS0JorkDR8W1ZoyeFs8vF55\n",
            "From (redirected): https://drive.google.com/uc?id=1AhSDUrPbRPS0JorkDR8W1ZoyeFs8vF55&confirm=t&uuid=4d2cb497-4abb-46fd-9a11-b6bec2aa1e8e\n",
            "To: /content/aclImdb_v1.tar.gz\n",
            "100%|██████████| 84.1M/84.1M [00:00<00:00, 85.7MB/s]\n"
          ]
        },
        {
          "output_type": "stream",
          "name": "stdout",
          "text": [
            "number of positive reviews 12500\n",
            "number of negative reviews 12500\n"
          ]
        }
      ],
      "source": [
        "import gdown\n",
        "import glob\n",
        "\n",
        "gdown.download(id='1AhSDUrPbRPS0JorkDR8W1ZoyeFs8vF55', output='aclImdb_v1.tar.gz')\n",
        "!tar -xvzf aclImdb_v1.tar.gz > /dev/null 2>&1\n",
        "\n",
        "positive_reviews = []\n",
        "\n",
        "# Note: there is a test set we can use as well\n",
        "for file in glob.glob('aclImdb/train/pos/*'):\n",
        "    with open(file) as f:\n",
        "        positive_reviews.append(f.read())\n",
        "\n",
        "negative_reviews = []\n",
        "\n",
        "for file in glob.glob('aclImdb/train/neg/*'):\n",
        "    with open(file) as f:\n",
        "        negative_reviews.append(f.read())\n",
        "\n",
        "print(f\"number of positive reviews {len(positive_reviews)}\")\n",
        "print(f\"number of negative reviews {len(negative_reviews)}\")"
      ]
    },
    {
      "cell_type": "markdown",
      "source": [
        "Before we do some machine learning, let's look at some of the reviews.  First, some positive reviews."
      ],
      "metadata": {
        "id": "ItdJW75y-fkR"
      }
    },
    {
      "cell_type": "code",
      "source": [
        "import random\n",
        "import textwrap\n",
        "\n",
        "for review in random.choices(positive_reviews, k=5):\n",
        "    print(\"POSITIVE REVIEW:\")\n",
        "    print('\\n'.join(textwrap.wrap(review, 50, break_long_words=False)))"
      ],
      "metadata": {
        "colab": {
          "base_uri": "https://localhost:8080/"
        },
        "id": "N0gOM7UU-hUc",
        "outputId": "da894013-a688-4277-909d-e38328e3a2f2"
      },
      "execution_count": 116,
      "outputs": [
        {
          "output_type": "stream",
          "name": "stdout",
          "text": [
            "POSITIVE REVIEW:\n",
            "The Ghost Train is a treat to those who appreciate\n",
            "the typical 1940's humour. It incorporates World\n",
            "War Two into the plot but not as much as I\n",
            "initially believed it would, and the characters\n",
            "are a unique blend who play their roles fairly\n",
            "well. Askey, playing the role of Tommy Gander, is\n",
            "what brightens the story up for the parts which\n",
            "could of been portrayed as boring or\n",
            "\"dragging\".<br /><br />The story of the haunted\n",
            "station is actually spooky even for present day\n",
            "standards. It is unique and the way the characters\n",
            "communicate with each is fantastic to liven up the\n",
            "mystery which is The Ghost Train. Gander is\n",
            "basically a nuisance to all the other members\n",
            "while the rest get along fairly well. He is always\n",
            "centre of attention and can be dubbed as being\n",
            "\"annoying\" but that is by those who do not\n",
            "appreciate 1940's humour. His humour is innocent\n",
            "and childish which makes it sweet to watch.<br\n",
            "/><br />If it was not for Askey/Gander, than this\n",
            "film would of been shorter in action, enjoyment\n",
            "and the result would be not as effective in my\n",
            "opinion.\n",
            "POSITIVE REVIEW:\n",
            "The Israeli/Palestinian conflict persists and\n",
            "while the world may be aware of the violence\n",
            "surrounding the division of the two countries, few\n",
            "have a clue to the other aspect of the division -\n",
            "the group of people who want peace and work toward\n",
            "eradicating the separation. Eytan Fox, in THE\n",
            "BUBBLE ('Ha-Buah'), has created a much needed\n",
            "alternative viewpoint of the schism, electing to\n",
            "tell a story that contains some fine humor, a lot\n",
            "of love, and a taste of brutal reality. It is a\n",
            "window into a situation that begs for\n",
            "understanding.<br /><br />In Tel Aviv three close\n",
            "friends are roommates: Lulu (Daniela Virtzer), a\n",
            "beautiful young woman with strong opinions; Yali\n",
            "(Alon Friedman), a very 'out' gay young man who\n",
            "works in a popular café; and Noam (Ohad Knoller),\n",
            "a handsome, somewhat shy fellow who, in addition\n",
            "to his day job in a music shop, is a member of the\n",
            "National Guard and therefore spends his free time\n",
            "serving as a guard at the city's checkpoints. It\n",
            "is during one of these guard duty weekends that he\n",
            "meets a young Palestinian named Ashraf (Yousef\n",
            "'Joe' Sweid), and a mutual attraction occurs. The\n",
            "three friends decide to 'stowaway' the illegally\n",
            "present Ashraf (whom they nickname with an Israeli\n",
            "name) and while Ashraf and Noam settle into a love\n",
            "relationship, Yali hires Ashraf at his café, and\n",
            "Yali and Lulu both proceed to find love interests,\n",
            "too. All goes well until Ashraf must return home\n",
            "for his sister's wedding. Though in Tel Aviv\n",
            "Ashraf has been able to be openly gay with Noam,\n",
            "life is far different in Jerusalem: Ashraf is told\n",
            "he must marry his sister's groom-to-be sister. In\n",
            "an attempt to rescue Ashraf from his fate, Noam\n",
            "and Lulu disguise themselves as French reporters\n",
            "to gain access to Ashraf. In a moment of supposed\n",
            "seclusion, Noam and Ashraf are discovered kissing\n",
            "by the groom-to-be, and this act gives cause for\n",
            "blackmail in order for Ashraf to remain 'in the\n",
            "closet'.<br /><br />While the young people in Tel\n",
            "Aviv are dancing at an event to raise attention\n",
            "for peaceful coexistence, an attack occurs in\n",
            "Jerusalem - one that has grave consequences not\n",
            "only immediately, but also in the revenge mission\n",
            "Ashraf must now assume. The ending is tragic on\n",
            "many levels and it underlines just how serious the\n",
            "problem between these two countries is.<br /><br\n",
            "/>The acting is so very natural that from both the\n",
            "comedic and the tragic aspects the audience\n",
            "completely believes in these beautiful young\n",
            "people. The story finds the right balance between\n",
            "the serious and the lighthearted and it is this\n",
            "balance than makes Eytan Fox such a fine\n",
            "writer/director. More people should watch this\n",
            "important and very fine film. In Hebrew, Arabic,\n",
            "and English with subtitles. Grady Harp\n",
            "POSITIVE REVIEW:\n",
            "This movie is great. If you enjoy watching B-class\n",
            "movies, that is. This is a classic college 80's\n",
            "slasher movie, in which one song is played\n",
            "throughout the entire soundtrack. A horrible film,\n",
            "but worth renting to make fun of, or just to watch\n",
            "old men pop out of closets with knives. Kinda\n",
            "funny, if you ask me.\n",
            "POSITIVE REVIEW:\n",
            "A must see for anyone who loves photography.\n",
            "stunning and breathtaking,leaves you in ore. seen\n",
            "it twice once in a cinema and now on DVD. it holds\n",
            "up well on DVD but on the big screen this was\n",
            "something else.<br /><br />Took my two daughters\n",
            "to see this and they loved it, my oldest cried at\n",
            "the end.but she was the one who wanted to see it\n",
            "again tonight when she saw it at the video shop.\n",
            "its simple telling of a child's love for nature\n",
            "and in particular a fox is told well. in some ways\n",
            "it reminded me of the bear in its telling a story\n",
            "not documentary formate. which works for children\n",
            "very well. not being preached to is very\n",
            "important, you make your own mind up.<br /><br\n",
            "/>But the star of this film is the\n",
            "cinematographers, how did they do what they did.\n",
            "amazing just amazing.\n",
            "POSITIVE REVIEW:\n",
            "Well, here's another terrific example of awkward\n",
            "70's film-making! The rudimentary premise of\n",
            "\"What's the matter with Helen?\" is quite shocking\n",
            "and disturbing, but it's presented in such a\n",
            "stylish and sophisticated fashion! In the hands of\n",
            "any other movie crew, this certainly would have\n",
            "become a nasty and gritty exploitation tale, but\n",
            "with director Curtis Harrington (\"Whoever Slew\n",
            "Auntie Roo?\") and scriptwriter Henry Farrell\n",
            "(\"HushHushSweet Charlotte\") in charge, it became\n",
            "a beautiful and almost enchanting mixture of\n",
            "themes and genres. The basic plot of the film is\n",
            "definitely horrific, but there's a lot more to\n",
            "experience, like love stories, a swinging 1930's\n",
            "atmosphere and a whole lot of singing and tap-\n",
            "dancing! The setting is unquestionably what makes\n",
            "this movie so unique. We're literally catapulted\n",
            "back to the 1930's, with a sublime depiction of\n",
            "that era's music, religion, theatrical business\n",
            "and wardrobes. Following the long and exhausting\n",
            "trial that sentenced their sons to life-\n",
            "imprisonment for murder, Adelle (Debbie Reynolds)\n",
            "and Helen (Shelley Winters) flee to California and\n",
            "attempt to start a new life running a dance school\n",
            "for young talented girls. Particularly Adelle\n",
            "adapts herself perfectly to the new environment,\n",
            "as she falls in love with a local millionaire, but\n",
            "poor old Helen continues to sink in a downwards\n",
            "spiral of insanity and paranoia. She only listens\n",
            "to the ramblings of a radio-evangelist, fears that\n",
            "she will be punished for the crimes her son\n",
            "committed and slowly develops violent tendencies.\n",
            "The script, although not entirely without flaws,\n",
            "is well written and the film is adequately paced.\n",
            "There's never a dull moment in \"What's the matter\n",
            "with Helen\", although the singing, tap-dancing and\n",
            "tango sequences are quite extended and much\n",
            "unrelated to the actual plot. But the atmosphere\n",
            "is continuously ominous and the film definitely\n",
            "benefices from the terrific acting performance of\n",
            "Shelley Winters. She's downright scary as the\n",
            "unpredictable and introvert lady who's about to\n",
            "snap any second and, especially during the last\n",
            "ten minutes or so, she looks more petrifying than\n",
            "all the Freddy Kruegers, Jason Voorhees' and\n",
            "Michael Myers' combined! There are several\n",
            "terrific supportive characters who are, sadly, a\n",
            "little underdeveloped and robbed from their\n",
            "potential, like Michéal MacLiammóir as the cocky\n",
            "elocution teacher, Agnes Moorehead as the creepy\n",
            "priestess and Timothy Carey as the obtrusive\n",
            "visitor to the ladies' house. There are a couple\n",
            "of surprisingly gruesome scenes and moments of\n",
            "genuine shock to enjoy for the Grand Guignol\n",
            "fanatics among us, but particularly the set pieces\n",
            "and costume designs (even nominated for an Oscar!)\n",
            "are breathtaking.\n"
          ]
        }
      ]
    },
    {
      "cell_type": "markdown",
      "source": [
        "Now some of the negative reviews."
      ],
      "metadata": {
        "id": "aGcBDIBA_2j_"
      }
    },
    {
      "cell_type": "code",
      "source": [
        "for review in random.choices(negative_reviews, k=5):\n",
        "    print(\"NEGATIVE REVIEW:\")\n",
        "    print('\\n'.join(textwrap.wrap(review, 50, break_long_words=False)))"
      ],
      "metadata": {
        "colab": {
          "base_uri": "https://localhost:8080/"
        },
        "id": "4YBEwDo-_41w",
        "outputId": "4de59de0-805a-4a25-fd4e-cd8fa8cedea9"
      },
      "execution_count": 117,
      "outputs": [
        {
          "output_type": "stream",
          "name": "stdout",
          "text": [
            "NEGATIVE REVIEW:\n",
            "Jack Frost, no kids it's not the warm hearted\n",
            "family movie about a dad who comes back from the\n",
            "dead in the form of a snow man. It's about a\n",
            "sadistic killer named Jack Frost who is sprayed\n",
            "with some acid fluid and is morphed into a killer\n",
            "snow man. I happened to catch a copy of this movie\n",
            "so I could have a nice sit back and laugh at it. A\n",
            "killer snow man? Ha, sounds like the perfect\n",
            "comedy/horror movie! Well I was wrong, very\n",
            "wrong.<br /><br />Jack Frost is about a killer who\n",
            "is being transported via truck to jail so he could\n",
            "fry in the chair at midnight. But it's a snowy\n",
            "night and it collides with a government tanker\n",
            "carrying a new DNA fluid. Jack escapes only to be\n",
            "burnt to death by the acid and morphs into a\n",
            "killer snowman. He returns to the small town of\n",
            "Snowmonton where he was caught by a small time\n",
            "sheriff. Here he is ready to kill again, now as a\n",
            "snow man with cooler powers. He can condense into\n",
            "water, shoot out ice cycles as spears, and grow\n",
            "killer fangs. The only question is, who can stop\n",
            "Frost? This movie is below the typical B-Movie\n",
            "line. The movies begins cheesy but as soon as Jack\n",
            "is burned by the acid, it quickly drops below the\n",
            "cheese line and goes flat. The acting for one is\n",
            "appalling! Here we have a whole cast of unheard of\n",
            "actors who either can't act, can act but has a\n",
            "pointless character, or is just here for a few\n",
            "extra bucks. The only good actor is Scott\n",
            "MacDonald who plays Jack. He looks like a young\n",
            "Richard Kiel combined with Frankenstein. Sadly his\n",
            "appearance is only reduced to three minutes and\n",
            "all we ever see of him is his new snow man form\n",
            "and his wise cracking voice. Plus his wisecracks\n",
            "are anything but funny. Groaning, stupid, and\n",
            "bad.<br /><br />The plot is horrible! Throughout\n",
            "history there have been numerous murderers. A\n",
            "killer in a hockey mask, a killer with a razer\n",
            "glove, a chainsaw wielding moron, a rapid St.\n",
            "Bernard, but now we stoop to a tacky killer snow\n",
            "man? Oh come on! And the way the characters are\n",
            "introduced are terrible. For one I really wanted\n",
            "Jack to kill the sheriffs son, I mean giving his\n",
            "dad oats with Antifreeze in them so they won't\n",
            "freeze? All the characters are dumb and pointless\n",
            "and the deaths are to cartoony. One woman in\n",
            "strangled with Christmas lights and has her head\n",
            "smashed into a decoration box and a girl is humped\n",
            "to death in the shower (where is the carrot in\n",
            "that scene eh?).<br /><br />And to top of this\n",
            "horrible movie is the special effects. The first\n",
            "big special effect we have is Jack's DNA mixing in\n",
            "with snow and boy is it terrible. I mean it looks\n",
            "like a 60's fashion of art design, PU! Jack looks\n",
            "fake as well. He looks like a person covered with\n",
            "rubber snow man skin. All the blood and gore is\n",
            "cheesy and the film never takes off with greatness\n",
            "but instead stoops to low levels.<br /><br />Jack\n",
            "Frost is one of the worst slasher movies ever\n",
            "made. I thought it would be a riot but no! It\n",
            "doesn't try to be funny and it actually tries to\n",
            "be scary. Jack Frost gets 4 out of 10, it at least\n",
            "made me laugh from it's awfulness. Don't even\n",
            "bother with this piece of trash. Jack Frost= D+\n",
            "NEGATIVE REVIEW:\n",
            "Revenge is one of my favorite themes in film.\n",
            "Moreso, \"the futility of revenge\" is one of my\n",
            "favorite themes in film. Having seen Gaspar Noe's\n",
            "Irreversible (2002), I was expecting an even more\n",
            "relevant expression of this theme. Instead, this\n",
            "film is a weak half-hearted attempt which\n",
            "expressed nothing but the film's lack of\n",
            "conviction and focus.<br /><br />*SPOILERS* The\n",
            "end scene, a gratuitous male-on-male rape/torture\n",
            "scene, came across as nothing less than a female\n",
            "revenge rape fantasy. However, the film doesn't\n",
            "even follow through with this. Instead, the drawn\n",
            "out scene (which FAR exceeds the brutality of the\n",
            "initial rape both in the degree to which it was\n",
            "graphic and to which it was ritualized) is crowned\n",
            "with a shot of Dawson's face in an expression of\n",
            "either regret or \"This didn't fix anything\" while\n",
            "the rape of her rapist is heard continuing in the\n",
            "background.<br /><br />My problem with the scene\n",
            "wasn't one of shock, but one of confusion as to\n",
            "what such a graphic scene was trying to get across\n",
            "to the audience. I mean, do we feel bad for the\n",
            "rapist? Do we rejoice in Dawson's revenge? Are we\n",
            "disgusted by the brutality of it all? Do we feel\n",
            "Dawson's moment of regretful clarity? Aside from\n",
            "this failing, the film is really sort of awkwardly\n",
            "paced with more style than substance. Character's\n",
            "are thin, dialog is monotonous, etc.<br /><br\n",
            "/>Normally I try to take films on their own terms\n",
            "but Descent didn't really seem to know what those\n",
            "were. Thumbs down.\n",
            "NEGATIVE REVIEW:\n",
            "Christopher Lambert is annoying and disappointing\n",
            "in his portrayal as GIDEON. This movie could have\n",
            "been a classic had Lambert performed as well as\n",
            "Tom Hanks in Forrest Gump, or Dustin Hoffman as\n",
            "Raymond Babbitt in RAIN MAN, or Sean Penn as Sam\n",
            "Dawson in I AM SAM.<br /><br />Too bad because the\n",
            "story line is meaningful to us in life, the\n",
            "supporting performances by Charlton Heston,\n",
            "Carroll O'Connor, Shirley Jones, Mike Connors and\n",
            "Shelley Winters were excelent. 3 of 10.\n",
            "NEGATIVE REVIEW:\n",
            "A truly horrible film that left me feeling sullied\n",
            "by having watched the forty minutes or so I could\n",
            "stand. Not the actors' fault, but the\n",
            "writer/director, producers, financiers, etc., need\n",
            "a very stiff talking to. Maybe it thinks it is\n",
            "profound. It isn't. This rape and ultra-violence,\n",
            "unlike that central to Clockwork Orange, has\n",
            "nothing to say about or add to the sum of human\n",
            "understanding. It's no Straw Dogs, either, to\n",
            "which I have seen it compared. Rather it feels\n",
            "like something Pete Walker might have turned his\n",
            "hand to, yet even in saying that I'm probably\n",
            "being a bit unfair on Pete Walker.<br /><br\n",
            "/>Revenge is a powerful human desire, but The\n",
            "Bedroom Window has more to say about that and male\n",
            "emasculation than this pitiful effort.<br /><br\n",
            "/>I don't think it's particularly misogynistic,\n",
            "merely too gleeful in its depiction of certain\n",
            "details -- the blood running down GA's leg post\n",
            "rape, par example. It's neither challenging nor\n",
            "confrontational, though I'm sure the film-makers\n",
            "consider themselves very 'daring', just deeply\n",
            "unpleasant.<br /><br />Is this as high as we can\n",
            "aim? Is this why those involved wanted to make\n",
            "films? ( I did write in here the Latin phrase\n",
            "which translates as Oh the Times! Oh the customs!\n",
            "But the new spell-check on IMDb wouldn't let me\n",
            "post until I had removed it. Likewise I had to\n",
            "remove square parentheses. Get it sorted IMDb.)<br\n",
            "/><br />Where is the lofty aspiration? The noble\n",
            "impulse? When you look at British film - the\n",
            "joyful comedies of Ealing or the Boulting\n",
            "Brothers; Carol Reed's work with Graham Greene on\n",
            "Fallen Idol, Our Man in Havana or the sublime The\n",
            "Third Man (a film which has far more to say about\n",
            "evil than a thousand Straightheads); the work of\n",
            "Powell & Pressburger; or if you want to talk about\n",
            "sex, violence and male emasculation look at \"The\n",
            "Offence' Dir. Sidney Lumet, from an original play\n",
            "by John Hopkins; check out \"Tunes of Glory\" for\n",
            "something worth making, that has something to\n",
            "say.<br /><br />Unlike the foregoing,\n",
            "Straightheads is, alas, an altogether hateful\n",
            "waste of celluloid.\n",
            "NEGATIVE REVIEW:\n",
            "Today, Bea Arthur died so I was cruising around\n",
            "the IMDb Web site and somehow wound up on a show\n",
            "called \"Gloria.\" \"All In The Family\" was a\n",
            "brilliant show for its first four or five years\n",
            "and I bet I watched every episode more than once.\n",
            "However, I swear that I did NOT know a show named\n",
            "\"Gloria\" existed. Maybe, that's a good thing.\n",
            "Maybe, it means I had a life as a young adult\n",
            "rather than watching television.<br /><br />On the\n",
            "other hand, it is pathetic that the \"All In The\n",
            "Family\" franchise had deteriorated so much that it\n",
            "begat a show I never heard of -- and one that is\n",
            "rated very poorly by the previous reviewers.<br\n",
            "/><br />I rated the show a 1 for two reasons --\n",
            "the system did not allow me to register a no vote\n",
            "and writers and TV execs should be condemned for\n",
            "starting a show that had no business being on the\n",
            "air and besmirches the memory of one of the\n",
            "greatest shows in TV history.<br /><br />Shalom,\n",
            "ZWrite\n"
          ]
        }
      ]
    },
    {
      "cell_type": "markdown",
      "source": [
        "# Computing Our Bag of Words\n",
        "\n",
        "While we're not going to have you create your own implementation, it might be helpful to think through the major steps you would go through to compute a bag of words representation for each of the reviews in this dataset."
      ],
      "metadata": {
        "id": "dSb742OVprNa"
      }
    },
    {
      "cell_type": "markdown",
      "source": [
        "\n",
        "## *Notebook Exercise 1*\n",
        "\n",
        "Given the reviews stored in positive_reviews and negative_reviews, what would be the major steps you'd need to do in order to compute a bag of words representation?  You can make this as high-level as it needs to be, e.g., you may know that you need to convert the reviews into individual words, but you may not have much of an idea how to do that.  That's alright!  Having a high-level picture is much more important than getting down into the minutiae."
      ],
      "metadata": {
        "id": "hR7tDYKa4trr"
      }
    },
    {
      "cell_type": "markdown",
      "source": [
        "### Expand for Solution"
      ],
      "metadata": {
        "id": "CoXDlTaD43zh"
      }
    },
    {
      "cell_type": "markdown",
      "source": [
        "Roughly you'd need to do the following steps.\n",
        "1. Iterate over all the reviews and convert the reviews into lists of words.  This would require word tokenization and we'd have to think about how we treat non-letters, letter case, etc.\n",
        "2. Assign a unique dimension in our bag of words vector for each word in our dataset.  A dictionary could be handy for storing a mapping from words to vector dimensions.\n",
        "3. Allocate a tensor to store our dataset (this would have a number of rows equal to the number of data points and columns equal to the number of unique words).\n",
        "4. Iterate through each reviews words and increment the appropriate entry in our tensor to \"count\" the words."
      ],
      "metadata": {
        "id": "ZdaLadfI5v-b"
      }
    },
    {
      "cell_type": "markdown",
      "source": [
        "## Sklearn's Vectorizer\n",
        "\n",
        "It's certainly not a bag use of time to try to implement your own bag of words, but we recommend using an off-the-shelf implementation.  Scikit learn has a really nice implementation that can generate a bag of words representation fairly easily.  In the code below, we create the bag of words representation, make a train test split, and print out the bag of words representation as a dictionary for a specific review."
      ],
      "metadata": {
        "id": "xkpsjmcs48bp"
      }
    },
    {
      "cell_type": "code",
      "source": [
        "from sklearn.feature_extraction.text import CountVectorizer\n",
        "from sklearn.model_selection import train_test_split\n",
        "\n",
        "all_reviews = positive_reviews + negative_reviews\n",
        "vectorizer = CountVectorizer()\n",
        "X = vectorizer.fit_transform(all_reviews)\n",
        "y = [1] * len(positive_reviews) + [0] * len(negative_reviews)\n",
        "X_train, X_test, y_train, y_test = train_test_split(X, y)\n",
        "\n",
        "row_ind = 10000\n",
        "bow_as_dict = dict(zip(vectorizer.get_feature_names_out()[X.getrow(row_ind).indices].tolist(),\n",
        "                       X.getrow(row_ind).data.tolist())\n",
        "                  )\n",
        "print(bow_as_dict)"
      ],
      "metadata": {
        "id": "aM30-9Mgpt7O",
        "colab": {
          "base_uri": "https://localhost:8080/"
        },
        "outputId": "40f15533-6604-4422-bec5-36d42cb7f7c2"
      },
      "execution_count": 118,
      "outputs": [
        {
          "output_type": "stream",
          "name": "stdout",
          "text": [
            "{'to': 5, 'the': 7, 'she': 4, 'had': 1, 'as': 2, 'movie': 3, 'is': 2, 'in': 2, 'or': 1, 'when': 2, 'of': 4, 'at': 2, 'this': 1, 'her': 4, 'so': 1, 'but': 1, 'and': 4, 'have': 3, 'one': 1, 'still': 1, 'it': 3, 'hours': 1, 'be': 1, 'on': 2, 'well': 2, 'melodrama': 1, 'face': 1, 'all': 2, 'was': 2, 'two': 1, 'aren': 1, 'never': 2, 'seen': 2, 'anything': 2, 'screen': 1, 'made': 2, 'very': 1, 'br': 4, 'what': 1, 'like': 1, 'just': 2, 'see': 1, 'most': 1, 'ever': 1, 'my': 1, 'me': 1, 'years': 1, 'sexual': 1, 'stare': 1, 'nature': 1, 'point': 1, 'show': 1, 'human': 1, 'has': 1, 'watching': 1, 'magnificent': 1, 'before': 1, 'beautiful': 2, 'almost': 1, 'couldn': 1, 'up': 1, 'remember': 1, 'couple': 1, 'else': 1, 'course': 1, 'old': 1, 'scenery': 1, 'feelings': 1, 'times': 1, 'several': 1, 'impressive': 1, 'believe': 1, 'parents': 1, 'forgotten': 1, 'nine': 2, 'since': 1, 'wanted': 1, 'women': 1, 'four': 1, 'walk': 1, 'video': 1, 'miss': 1, 'spent': 1, 'breathtaking': 1, 'taylor': 2, 'beauty': 1, 'took': 1, 'lived': 1, 'saves': 1, 'age': 1, 'elizabeth': 1, 'channel': 1, 'sappy': 1, 'sit': 1, 'elephant': 2, 'puppy': 1, 'rented': 1, 'twenty': 1, 'feet': 1, 'arrogance': 1, 'begun': 1, 'seventy': 1, 'stampede': 1}\n"
          ]
        }
      ]
    },
    {
      "cell_type": "markdown",
      "source": [
        "## Training a Model to Predict Movie Review Sentiment\n",
        "\n",
        "Thinking back to the big picture of this assignment, we are trying to see how we can use the techniques from the last module (learning as optimization) to process text.  We are basically ready to take the final step and try one of our machine learning models on the task of classify movie review sentiment.\n",
        "\n",
        "Before we do so though, we need to convert our data to pytorch.  This will be a little bit more involved than normal since the CountVectorizer returns data in a sparse format (this reduces memory and speeds up our computations).  We've provided you with some code to go from scipy sparse matrices (what is returned from CountVectorizer) to a pytorch sparse tensor.\n",
        "\n",
        "We'll also move the data to the GPU (if you selected a GPU-based runtime in Colab)."
      ],
      "metadata": {
        "id": "BB8dnrHL52Hi"
      }
    },
    {
      "cell_type": "code",
      "source": [
        "import torch\n",
        "from scipy.sparse import coo_matrix\n",
        "import numpy as np\n",
        "\n",
        "def scipy_to_tensor(X):\n",
        "    coo = coo_matrix(X)\n",
        "\n",
        "    values = coo.data\n",
        "    indices = np.vstack((coo.row, coo.col))\n",
        "\n",
        "    i = torch.LongTensor(indices)\n",
        "    v = torch.FloatTensor(values)\n",
        "    shape = coo.shape\n",
        "\n",
        "    return torch.sparse.FloatTensor(i, v, torch.Size(shape))\n",
        "\n",
        "device = torch.device(\"cuda:0\" if torch.cuda.is_available() else \"cpu\")\n",
        "print(device)\n",
        "y_train_torch = torch.tensor(y_train).unsqueeze(dim=1).float().to(device)\n",
        "y_test_torch = torch.tensor(y_test).unsqueeze(dim=1).float().to(device)\n",
        "X_train_torch = scipy_to_tensor(X_train).to(device)\n",
        "X_test_torch = scipy_to_tensor(X_test).to(device)"
      ],
      "metadata": {
        "id": "5QcY0Tj9p1We",
        "colab": {
          "base_uri": "https://localhost:8080/"
        },
        "outputId": "9c0cbc2f-67d8-4e5d-9ded-5c499fe3ab4e"
      },
      "execution_count": 120,
      "outputs": [
        {
          "output_type": "stream",
          "name": "stdout",
          "text": [
            "cuda:0\n"
          ]
        }
      ]
    },
    {
      "cell_type": "markdown",
      "source": [
        "## Notebook Exercise 2\n",
        "\n",
        "Using what you just did in the small data project, use pytorch to train a model on the movie review data.  We will leave the particulars up to you, but we'd probably start with logistic regression as it is the easiest base line to start with (we'll show some interesting ways to analyze such a model in our solution as well).\n",
        "\n",
        "Here is some advice, although please post any issues that come up to Slack.\n",
        "1. Don't use DataLoader / batches (we had trouble making this work with sparse matrices).\n",
        "2. If you want to measure accuracy, you may find the `binary_accuracy` function in the `torcheval` module useful (see our solutions for an example of that).\n",
        "3. As we did before, try to generate a learning curve for training and test set (loss) as well as the accuracy of, at a minimum, your model on your test set."
      ],
      "metadata": {
        "id": "xTSpTbPLr0Y8"
      }
    },
    {
      "cell_type": "markdown",
      "source": [
        "### Expand for Solution"
      ],
      "metadata": {
        "id": "fNMlvQGo7yNy"
      }
    },
    {
      "cell_type": "code",
      "source": [
        "!pip install torcheval\n",
        "from torcheval.metrics.functional import binary_accuracy\n",
        "import torch.nn as nn\n",
        "import torch.nn.functional as F\n",
        "import numpy as np\n",
        "import matplotlib.pyplot as plt\n",
        "\n",
        "class LogisticRegression(nn.Module):\n",
        "    def __init__(self, input_dim):\n",
        "        super(LogisticRegression, self).__init__()\n",
        "        # since we just have a binary classifier, we can get by with just 1\n",
        "        # output dimension this makes computing the accuracy a bit more involved\n",
        "        # than using argmax, which we solve using torcheval.\n",
        "        self.linear = nn.Linear(input_dim, 1)\n",
        "\n",
        "    def forward(self, x):\n",
        "        out = self.linear(x)\n",
        "        return out\n",
        "\n",
        "model = LogisticRegression(X_train_torch.shape[1]).to(device)\n",
        "criterion = nn.BCEWithLogitsLoss()\n",
        "# You can use SGD, but Adam converges quite fast.\n",
        "optimizer = torch.optim.Adam(model.parameters(), lr=0.01)\n",
        "\n",
        "n_epochs = 50\n",
        "train_losses = np.zeros((n_epochs,))\n",
        "test_losses = np.zeros((n_epochs,))\n",
        "test_accuracies = np.zeros((n_epochs,))\n",
        "\n",
        "for n in range(n_epochs):\n",
        "    # this is a good habit to get into (setting the model's mode to train). It\n",
        "    # won't change anything for this model, but some model layers behave\n",
        "    # differently when training versus test.\n",
        "    model.train()\n",
        "    optimizer.zero_grad()\n",
        "    output = model(X_train_torch)\n",
        "    loss = criterion(output, y_train_torch)\n",
        "    train_losses[n] = loss.item()\n",
        "    # this is like the ridge term in ridge regression.  It makes the weights\n",
        "    # more interpretable (see below)\n",
        "    l2_norm = sum(p.pow(2).sum() for p in model.parameters())\n",
        "    loss = loss + 0.001 * l2_norm\n",
        "    loss.backward()\n",
        "    optimizer.step()\n",
        "\n",
        "    with torch.no_grad():\n",
        "        model.eval()\n",
        "        output = model(X_test_torch)\n",
        "        loss = criterion(output, y_test_torch)\n",
        "        test_losses[n] = loss.item()\n",
        "        test_accuracies[n] = binary_accuracy(output.squeeze(), y_test_torch.squeeze(), threshold=0.0).item()\n",
        "\n",
        "plt.plot(train_losses, label='train')\n",
        "plt.plot(test_losses, label='test')\n",
        "plt.xlabel('epoch')\n",
        "plt.ylabel('cross entropy')\n",
        "plt.legend()\n",
        "plt.show()\n",
        "\n",
        "plt.plot(test_accuracies)\n",
        "plt.ylabel('test accuracy')\n",
        "plt.xlabel('epoch')\n",
        "plt.show()"
      ],
      "metadata": {
        "id": "J1_OzS1drRxY",
        "outputId": "a7417a24-1a78-405f-a1d7-fcb0ea80265a",
        "colab": {
          "base_uri": "https://localhost:8080/",
          "height": 920
        }
      },
      "execution_count": 130,
      "outputs": [
        {
          "output_type": "stream",
          "name": "stdout",
          "text": [
            "Requirement already satisfied: torcheval in /usr/local/lib/python3.10/dist-packages (0.0.7)\n",
            "Requirement already satisfied: typing-extensions in /usr/local/lib/python3.10/dist-packages (from torcheval) (4.12.2)\n"
          ]
        },
        {
          "output_type": "display_data",
          "data": {
            "text/plain": [
              "<Figure size 640x480 with 1 Axes>"
            ],
            "image/png": "[encoded data removed]"
          },
          "metadata": {}
        },
        {
          "output_type": "display_data",
          "data": {
            "text/plain": [
              "<Figure size 640x480 with 1 Axes>"
            ],
            "image/png": "[encoded data removed]"
          },
          "metadata": {}
        }
      ]
    },
    {
      "cell_type": "markdown",
      "source": [
        "For fun, we're also going to print out the words that contribute most to positive sentiment and negative sentiment.  We can do this by analyzing the weights directly.  The code is a bit involved, but hopefully our comments will help."
      ],
      "metadata": {
        "id": "toNFQkdP9dNi"
      }
    },
    {
      "cell_type": "code",
      "source": [
        "import numpy as np\n",
        "\n",
        "# we are grabbing the weights.  We need to do a few conversions to get them in\n",
        "# the right format.\n",
        "feature_weights = model.linear.weight.data.cpu().numpy()[0]\n",
        "\n",
        "# np.argsort gives us the indices that sort a list rather than the sorted list\n",
        "# itself.  This is useful if we don't care about the weights but rather the\n",
        "# feature indices.\n",
        "print(\"Predictive of a bad review\")\n",
        "for idx in np.argsort(feature_weights)[:10]:\n",
        "    print(vectorizer.get_feature_names_out()[idx])\n",
        "\n",
        "print(\"Predictive of a good review\")\n",
        "# now we take the indices at the end rather than the beginning (high weights).\n",
        "for idx in np.argsort(feature_weights)[-10:]:\n",
        "    print(vectorizer.get_feature_names_out()[idx])"
      ],
      "metadata": {
        "id": "4sSWEGebsDtn",
        "colab": {
          "base_uri": "https://localhost:8080/"
        },
        "outputId": "92da39bf-3b91-4e8d-db7d-96b2676d04de"
      },
      "execution_count": 132,
      "outputs": [
        {
          "output_type": "stream",
          "name": "stdout",
          "text": [
            "Predictive of a bad review\n",
            "disappointment\n",
            "waste\n",
            "worst\n",
            "disappointing\n",
            "lacks\n",
            "boring\n",
            "awful\n",
            "poorly\n",
            "avoid\n",
            "terrible\n",
            "Predictive of a good review\n",
            "enjoyed\n",
            "rare\n",
            "recommended\n",
            "superb\n",
            "stallone\n",
            "gem\n",
            "loved\n",
            "refreshing\n",
            "funniest\n",
            "excellent\n"
          ]
        }
      ]
    },
    {
      "cell_type": "markdown",
      "source": [
        "## tf-idf"
      ],
      "metadata": {
        "id": "lL2Q_sI0-MNc"
      }
    },
    {
      "cell_type": "markdown",
      "source": [
        "## Notebook Exercise 3\n",
        "\n",
        "As a last exercise, we want you to learn about the [tf-idf feature](https://en.wikipedia.org/wiki/Tf%E2%80%93idf).  The equations on the page are a bit daunting, but hopefully the ideas make sense.  Having the mental model from the IBM video regarding tf-idf may help (so maybe go watch the end of that video again).  If you find a great resource to learn about tf-idf, please let us know (there are many out there).  Also, bring your questions so we can debrief on this in class on Monday.\n",
        "\n",
        "Adjust the code we gave you to compute the bag of words to instead use sklearn's `TfidfVectorizer` class.  You should just be able to modify the code slightly as shown below.\n",
        "\n",
        "```\n",
        "from sklearn.feature_extraction.text import TfidfVectorizer\n",
        "from sklearn.model_selection import train_test_split\n",
        "\n",
        "all_reviews = positive_reviews + negative_reviews\n",
        "vectorizer = TfidfVectorizer()\n",
        "X = vectorizer.fit_transform(all_reviews)\n",
        "```\n",
        "\n",
        "How does the model performance change when using tf-idf instead of raw counts?  Can you make sense of this pattern."
      ],
      "metadata": {
        "id": "gWGX9ugK_DAh"
      }
    },
    {
      "cell_type": "markdown",
      "source": [
        "### Toggle for Solution"
      ],
      "metadata": {
        "id": "db_34iuz_tk5"
      }
    },
    {
      "cell_type": "markdown",
      "source": [
        "We won't copy our whole solution code again, but the upshot is the performance doesn't change all that much (it may be a bit worse).  It seems the model is able to effectively handle the raw count data.  Maybe movie reviews are too similar in length for it to matter too much.  It's a bit hard to say without spending a bunch more time investigating.  We'd be excited to dig more into this with you."
      ],
      "metadata": {
        "id": "pCNNFj3J_v_y"
      }
    }
  ]
}